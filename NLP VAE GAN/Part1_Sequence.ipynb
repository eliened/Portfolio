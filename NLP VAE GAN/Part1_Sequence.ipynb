{
 "metadata": {
  "kernelspec": {
   "language": "python",
   "display_name": "Python 3",
   "name": "python3"
  },
  "language_info": {
   "name": "python",
   "version": "3.7.12",
   "mimetype": "text/x-python",
   "codemirror_mode": {
    "name": "ipython",
    "version": 3
   },
   "pygments_lexer": "ipython3",
   "nbconvert_exporter": "python",
   "file_extension": ".py"
  }
 },
 "nbformat_minor": 4,
 "nbformat": 4,
 "cells": [
  {
   "cell_type": "markdown",
   "source": [
    "$$\n",
    "\\newcommand{\\mat}[1]{\\boldsymbol {#1}}\n",
    "\\newcommand{\\mattr}[1]{\\boldsymbol {#1}^\\top}\n",
    "\\newcommand{\\matinv}[1]{\\boldsymbol {#1}^{-1}}\n",
    "\\newcommand{\\vec}[1]{\\boldsymbol {#1}}\n",
    "\\newcommand{\\vectr}[1]{\\boldsymbol {#1}^\\top}\n",
    "\\newcommand{\\rvar}[1]{\\mathrm {#1}}\n",
    "\\newcommand{\\rvec}[1]{\\boldsymbol{\\mathrm{#1}}}\n",
    "\\newcommand{\\diag}{\\mathop{\\mathrm {diag}}}\n",
    "\\newcommand{\\set}[1]{\\mathbb {#1}}\n",
    "\\newcommand{\\norm}[1]{\\left\\lVert#1\\right\\rVert}\n",
    "\\newcommand{\\pderiv}[2]{\\frac{\\partial #1}{\\partial #2}}\n",
    "\\newcommand{\\bb}[1]{\\boldsymbol{#1}}\n",
    "$$\n",
    "# Part 1: Sequence Models\n",
    "<a id=part1></a>"
   ],
   "metadata": {
    "pycharm": {
     "name": "#%% md\n"
    }
   }
  },
  {
   "cell_type": "markdown",
   "source": [
    "In this part we will learn about working with text sequences using recurrent neural networks.\n",
    "We'll go from a raw text file all the way to a fully trained GRU-RNN model and generate works of art!"
   ],
   "metadata": {
    "pycharm": {
     "name": "#%% md\n"
    }
   }
  },
  {
   "cell_type": "code",
   "source": [
    "import unittest\n",
    "import os\n",
    "import sys\n",
    "import pathlib\n",
    "import urllib\n",
    "import shutil\n",
    "import re\n",
    "\n",
    "import numpy as np\n",
    "import torch\n",
    "import matplotlib.pyplot as plt\n",
    "\n",
    "%load_ext autoreload\n",
    "%autoreload 2"
   ],
   "metadata": {
    "pycharm": {
     "name": "#%%\n"
    },
    "execution": {
     "iopub.status.busy": "2022-07-01T12:01:19.036655Z",
     "iopub.execute_input": "2022-07-01T12:01:19.037768Z",
     "iopub.status.idle": "2022-07-01T12:01:21.277080Z",
     "shell.execute_reply.started": "2022-07-01T12:01:19.037725Z",
     "shell.execute_reply": "2022-07-01T12:01:21.276140Z"
    },
    "trusted": true
   },
   "execution_count": 6,
   "outputs": [
    {
     "name": "stdout",
     "output_type": "stream",
     "text": [
      "The autoreload extension is already loaded. To reload it, use:\n",
      "  %reload_ext autoreload\n"
     ]
    }
   ]
  },
  {
   "cell_type": "code",
   "source": [
    "test = unittest.TestCase()\n",
    "plt.rcParams.update({'font.size': 12})\n",
    "device = \"mps\" if torch.backends.mps.is_available() else \"cpu\"\n",
    "print('Using device:', device)"
   ],
   "metadata": {
    "pycharm": {
     "name": "#%%\n"
    },
    "execution": {
     "iopub.status.busy": "2022-07-01T12:01:24.658900Z",
     "iopub.execute_input": "2022-07-01T12:01:24.659469Z",
     "iopub.status.idle": "2022-07-01T12:01:24.766774Z",
     "shell.execute_reply.started": "2022-07-01T12:01:24.659434Z",
     "shell.execute_reply": "2022-07-01T12:01:24.764791Z"
    },
    "trusted": true
   },
   "execution_count": 7,
   "outputs": [
    {
     "ename": "AttributeError",
     "evalue": "module 'torch.backends' has no attribute 'mps'",
     "output_type": "error",
     "traceback": [
      "\u001B[0;31m---------------------------------------------------------------------------\u001B[0m",
      "\u001B[0;31mAttributeError\u001B[0m                            Traceback (most recent call last)",
      "\u001B[0;32m/var/folders/m0/zbfhgcdj35l0znt4qk1tr5280000gn/T/ipykernel_28654/2283548166.py\u001B[0m in \u001B[0;36m<module>\u001B[0;34m\u001B[0m\n\u001B[1;32m      1\u001B[0m \u001B[0mtest\u001B[0m \u001B[0;34m=\u001B[0m \u001B[0munittest\u001B[0m\u001B[0;34m.\u001B[0m\u001B[0mTestCase\u001B[0m\u001B[0;34m(\u001B[0m\u001B[0;34m)\u001B[0m\u001B[0;34m\u001B[0m\u001B[0;34m\u001B[0m\u001B[0m\n\u001B[1;32m      2\u001B[0m \u001B[0mplt\u001B[0m\u001B[0;34m.\u001B[0m\u001B[0mrcParams\u001B[0m\u001B[0;34m.\u001B[0m\u001B[0mupdate\u001B[0m\u001B[0;34m(\u001B[0m\u001B[0;34m{\u001B[0m\u001B[0;34m'font.size'\u001B[0m\u001B[0;34m:\u001B[0m \u001B[0;36m12\u001B[0m\u001B[0;34m}\u001B[0m\u001B[0;34m)\u001B[0m\u001B[0;34m\u001B[0m\u001B[0;34m\u001B[0m\u001B[0m\n\u001B[0;32m----> 3\u001B[0;31m \u001B[0mdevice\u001B[0m \u001B[0;34m=\u001B[0m \u001B[0;34m\"mps\"\u001B[0m \u001B[0;32mif\u001B[0m \u001B[0mtorch\u001B[0m\u001B[0;34m.\u001B[0m\u001B[0mbackends\u001B[0m\u001B[0;34m.\u001B[0m\u001B[0mmps\u001B[0m\u001B[0;34m.\u001B[0m\u001B[0mis_available\u001B[0m\u001B[0;34m(\u001B[0m\u001B[0;34m)\u001B[0m \u001B[0;32melse\u001B[0m \u001B[0;34m\"cpu\"\u001B[0m\u001B[0;34m\u001B[0m\u001B[0;34m\u001B[0m\u001B[0m\n\u001B[0m\u001B[1;32m      4\u001B[0m \u001B[0mprint\u001B[0m\u001B[0;34m(\u001B[0m\u001B[0;34m'Using device:'\u001B[0m\u001B[0;34m,\u001B[0m \u001B[0mdevice\u001B[0m\u001B[0;34m)\u001B[0m\u001B[0;34m\u001B[0m\u001B[0;34m\u001B[0m\u001B[0m\n",
      "\u001B[0;31mAttributeError\u001B[0m: module 'torch.backends' has no attribute 'mps'"
     ]
    }
   ]
  },
  {
   "cell_type": "markdown",
   "source": [
    "## Text generation with a char-level RNN\n",
    "<a id=part1_1></a>"
   ],
   "metadata": {
    "pycharm": {
     "name": "#%% md\n"
    }
   }
  },
  {
   "cell_type": "markdown",
   "source": [
    "### Obtaining the corpus\n",
    "<a id=part1_2></a>"
   ],
   "metadata": {
    "pycharm": {
     "name": "#%% md\n"
    }
   }
  },
  {
   "cell_type": "markdown",
   "source": [
    "Let's begin by downloading a corpus containing all the works of William Shakespeare.\n",
    "Since he was very prolific, this corpus is fairly large and will provide us with enough data for\n",
    "obtaining impressive results."
   ],
   "metadata": {
    "pycharm": {
     "name": "#%% md\n"
    }
   }
  },
  {
   "cell_type": "code",
   "source": [
    "CORPUS_URL = 'https://github.com/cedricdeboom/character-level-rnn-datasets/raw/master/datasets/shakespeare.txt'\n",
    "DATA_DIR = pathlib.Path.home().joinpath('.pytorch-datasets')\n",
    "\n",
    "def download_corpus(out_path=DATA_DIR, url=CORPUS_URL, force=False):\n",
    "    pathlib.Path(out_path).mkdir(exist_ok=True)\n",
    "    out_filename = os.path.join(out_path, os.path.basename(url))\n",
    "    \n",
    "    if os.path.isfile(out_filename) and not force:\n",
    "        print(f'Corpus file {out_filename} exists, skipping download.')\n",
    "    else:\n",
    "        print(f'Downloading {url}...')\n",
    "        with urllib.request.urlopen(url) as response, open(out_filename, 'wb') as out_file:\n",
    "            shutil.copyfileobj(response, out_file)\n",
    "        print(f'Saved to {out_filename}.')\n",
    "    return out_filename\n",
    "    \n",
    "corpus_path = download_corpus()"
   ],
   "metadata": {
    "pycharm": {
     "name": "#%%\n"
    },
    "execution": {
     "iopub.status.busy": "2022-07-01T12:01:27.783217Z",
     "iopub.execute_input": "2022-07-01T12:01:27.784235Z",
     "iopub.status.idle": "2022-07-01T12:01:28.484516Z",
     "shell.execute_reply.started": "2022-07-01T12:01:27.784160Z",
     "shell.execute_reply": "2022-07-01T12:01:28.483466Z"
    },
    "trusted": true
   },
   "execution_count": 4,
   "outputs": [
    {
     "name": "stdout",
     "text": "Downloading https://github.com/cedricdeboom/character-level-rnn-datasets/raw/master/datasets/shakespeare.txt...\nSaved to /root/.pytorch-datasets/shakespeare.txt.\n",
     "output_type": "stream"
    }
   ]
  },
  {
   "cell_type": "markdown",
   "source": [
    "Load the text into memory and print a snippet:"
   ],
   "metadata": {
    "pycharm": {
     "name": "#%% md\n"
    }
   }
  },
  {
   "cell_type": "code",
   "source": [
    "with open(corpus_path, 'r', encoding='utf-8') as f:\n",
    "    corpus = f.read()\n",
    "\n",
    "print(f'Corpus length: {len(corpus)} chars')\n",
    "print(corpus[7:1234])"
   ],
   "metadata": {
    "pycharm": {
     "name": "#%%\n"
    },
    "execution": {
     "iopub.status.busy": "2022-07-01T12:01:30.664521Z",
     "iopub.execute_input": "2022-07-01T12:01:30.665461Z",
     "iopub.status.idle": "2022-07-01T12:01:30.717762Z",
     "shell.execute_reply.started": "2022-07-01T12:01:30.665412Z",
     "shell.execute_reply": "2022-07-01T12:01:30.716718Z"
    },
    "trusted": true
   },
   "execution_count": 5,
   "outputs": [
    {
     "name": "stdout",
     "text": "Corpus length: 6347703 chars\nALLS WELL THAT ENDS WELL\n\nby William Shakespeare\n\nDramatis Personae\n\n  KING OF FRANCE\n  THE DUKE OF FLORENCE\n  BERTRAM, Count of Rousillon\n  LAFEU, an old lord\n  PAROLLES, a follower of Bertram\n  TWO FRENCH LORDS, serving with Bertram\n\n  STEWARD, Servant to the Countess of Rousillon\n  LAVACHE, a clown and Servant to the Countess of Rousillon\n  A PAGE, Servant to the Countess of Rousillon\n\n  COUNTESS OF ROUSILLON, mother to Bertram\n  HELENA, a gentlewoman protected by the Countess\n  A WIDOW OF FLORENCE.\n  DIANA, daughter to the Widow\n\n  VIOLENTA, neighbour and friend to the Widow\n  MARIANA, neighbour and friend to the Widow\n\n  Lords, Officers, Soldiers, etc., French and Florentine  \n\nSCENE:\nRousillon; Paris; Florence; Marseilles\n\nACT I. SCENE 1.\nRousillon. The COUNT'S palace\n\nEnter BERTRAM, the COUNTESS OF ROUSILLON, HELENA, and LAFEU, all in black\n\n  COUNTESS. In delivering my son from me, I bury a second husband.\n  BERTRAM. And I in going, madam, weep o'er my father's death anew;\n    but I must attend his Majesty's command, to whom I am now in\n    ward, evermore in subjection.\n  LAFEU. You shall find of the King a husband, madam; you, sir, a\n    father. He that so generally is at all times good must of\n    \n",
     "output_type": "stream"
    }
   ]
  },
  {
   "cell_type": "markdown",
   "source": [
    "### Data Preprocessing\n",
    "<a id=part1_3></a>"
   ],
   "metadata": {
    "pycharm": {
     "name": "#%% md\n"
    }
   }
  },
  {
   "cell_type": "markdown",
   "source": [
    "The first thing we'll need is to map from each unique character in the corpus to an index that will represent it in our learning process.\n",
    "\n",
    "**TODO**: Implement the `char_maps()` function in the `hw3/charnn.py` module."
   ],
   "metadata": {
    "pycharm": {
     "name": "#%% md\n"
    }
   }
  },
  {
   "cell_type": "code",
   "source": [
    "import hw3.charnn as charnn\n",
    "\n",
    "char_to_idx, idx_to_char = charnn.char_maps(corpus)\n",
    "print(char_to_idx)\n",
    "\n",
    "test.assertEqual(len(char_to_idx), len(idx_to_char))\n",
    "test.assertSequenceEqual(list(char_to_idx.keys()), list(idx_to_char.values()))\n",
    "test.assertSequenceEqual(list(char_to_idx.values()), list(idx_to_char.keys()))"
   ],
   "metadata": {
    "pycharm": {
     "name": "#%%\n"
    },
    "execution": {
     "iopub.status.busy": "2022-07-01T12:02:26.864975Z",
     "iopub.execute_input": "2022-07-01T12:02:26.865486Z",
     "iopub.status.idle": "2022-07-01T12:02:27.027012Z",
     "shell.execute_reply.started": "2022-07-01T12:02:26.865453Z",
     "shell.execute_reply": "2022-07-01T12:02:27.025733Z"
    },
    "trusted": true
   },
   "execution_count": 8,
   "outputs": [
    {
     "name": "stdout",
     "text": "{'z': 0, '_': 1, 'S': 2, ' ': 3, 'A': 4, 'V': 5, 'C': 6, 'J': 7, 'y': 8, '-': 9, '8': 10, 'b': 11, ')': 12, '<': 13, 'Z': 14, '6': 15, '\"': 16, 'n': 17, 'D': 18, 'F': 19, '\\ufeff': 20, 'Y': 21, '?': 22, 'i': 23, '\\n': 24, '[': 25, 'N': 26, 'r': 27, '4': 28, '&': 29, '$': 30, ':': 31, '}': 32, 'k': 33, 'e': 34, 'Q': 35, '9': 36, 'X': 37, 'P': 38, '7': 39, 'M': 40, '0': 41, 'G': 42, 'H': 43, 'T': 44, 'u': 45, ']': 46, 's': 47, 'w': 48, 'W': 49, 'p': 50, 'f': 51, '!': 52, 'h': 53, 'j': 54, \"'\": 55, 'v': 56, '2': 57, 'm': 58, '3': 59, 'd': 60, 'I': 61, '1': 62, 'c': 63, 'l': 64, 'K': 65, 'a': 66, 'E': 67, 'O': 68, 'L': 69, ';': 70, 'q': 71, 't': 72, 'g': 73, 'U': 74, '(': 75, 'o': 76, 'x': 77, '5': 78, '.': 79, ',': 80, 'B': 81, 'R': 82}\n",
     "output_type": "stream"
    }
   ]
  },
  {
   "cell_type": "markdown",
   "source": [
    "Seems we have some strange characters in the corpus that are very rare and are probably due to mistakes.\n",
    "To reduce the length of each tensor we'll need to later represent our chars, it's best to remove them.\n",
    "\n",
    "**TODO**: Implement the `remove_chars()` function in the `hw3/charnn.py` module."
   ],
   "metadata": {
    "pycharm": {
     "name": "#%% md\n"
    }
   }
  },
  {
   "cell_type": "code",
   "source": [
    "corpus, n_removed = charnn.remove_chars(corpus, ['}','$','_','<','\\ufeff'])\n",
    "print(f'Removed {n_removed} chars')\n",
    "\n",
    "# After removing the chars, re-create the mappings\n",
    "char_to_idx, idx_to_char = charnn.char_maps(corpus)"
   ],
   "metadata": {
    "pycharm": {
     "name": "#%%\n"
    },
    "execution": {
     "iopub.status.busy": "2022-07-01T12:02:54.063531Z",
     "iopub.execute_input": "2022-07-01T12:02:54.063975Z",
     "iopub.status.idle": "2022-07-01T12:02:54.751812Z",
     "shell.execute_reply.started": "2022-07-01T12:02:54.063935Z",
     "shell.execute_reply": "2022-07-01T12:02:54.750163Z"
    },
    "trusted": true
   },
   "execution_count": 11,
   "outputs": [
    {
     "name": "stdout",
     "text": "Removed 34 chars\n",
     "output_type": "stream"
    }
   ]
  },
  {
   "cell_type": "markdown",
   "source": [
    "The next thing we need is an **embedding** of the chracters.\n",
    "An embedding is a representation of each token from the sequence as a tensor.\n",
    "For a char-level RNN, our tokens will be chars and we can thus use the simplest possible embedding: encode each char as a **one-hot** tensor. In other words, each char will be represented\n",
    "as a tensor whos length is the total number of unique chars (`V`) which contains all zeros except at the index\n",
    "corresponding to that specific char.\n",
    "\n",
    "**TODO**: Implement the functions `chars_to_onehot()` and `onehot_to_chars()` in the `hw3/charnn.py` module."
   ],
   "metadata": {
    "pycharm": {
     "name": "#%% md\n"
    }
   }
  },
  {
   "cell_type": "code",
   "source": [
    "# Wrap the actual embedding functions for calling convenience\n",
    "def embed(text):\n",
    "    return charnn.chars_to_onehot(text, char_to_idx)\n",
    "\n",
    "def unembed(embedding):\n",
    "    return charnn.onehot_to_chars(embedding, idx_to_char)\n",
    "\n",
    "text_snippet = corpus[3104:3148]\n",
    "print(text_snippet)\n",
    "print(embed(text_snippet[0:3]))\n",
    "\n",
    "test.assertEqual(text_snippet, unembed(embed(text_snippet)))\n",
    "test.assertEqual(embed(text_snippet).dtype, torch.int8)"
   ],
   "metadata": {
    "pycharm": {
     "name": "#%%\n"
    },
    "execution": {
     "iopub.status.busy": "2022-07-01T12:03:08.903024Z",
     "iopub.execute_input": "2022-07-01T12:03:08.903564Z",
     "iopub.status.idle": "2022-07-01T12:03:08.959277Z",
     "shell.execute_reply.started": "2022-07-01T12:03:08.903523Z",
     "shell.execute_reply": "2022-07-01T12:03:08.958246Z"
    },
    "trusted": true
   },
   "execution_count": 12,
   "outputs": [
    {
     "name": "stdout",
     "text": "brine a maiden can season her praise in.\n   \ntensor([[0, 0, 0, 0, 0, 0, 0, 0, 0, 0, 1, 0, 0, 0, 0, 0, 0, 0, 0, 0, 0, 0, 0, 0,\n         0, 0, 0, 0, 0, 0, 0, 0, 0, 0, 0, 0, 0, 0, 0, 0, 0, 0, 0, 0, 0, 0, 0, 0,\n         0, 0, 0, 0, 0, 0, 0, 0, 0, 0, 0, 0, 0, 0, 0, 0, 0, 0, 0, 0, 0, 0, 0, 0,\n         0, 0, 0, 0, 0, 0],\n        [0, 0, 0, 0, 0, 0, 0, 0, 0, 0, 0, 0, 0, 0, 0, 0, 0, 0, 0, 0, 0, 0, 0, 0,\n         1, 0, 0, 0, 0, 0, 0, 0, 0, 0, 0, 0, 0, 0, 0, 0, 0, 0, 0, 0, 0, 0, 0, 0,\n         0, 0, 0, 0, 0, 0, 0, 0, 0, 0, 0, 0, 0, 0, 0, 0, 0, 0, 0, 0, 0, 0, 0, 0,\n         0, 0, 0, 0, 0, 0],\n        [0, 0, 0, 0, 0, 0, 0, 0, 0, 0, 0, 0, 0, 0, 0, 0, 0, 0, 0, 0, 1, 0, 0, 0,\n         0, 0, 0, 0, 0, 0, 0, 0, 0, 0, 0, 0, 0, 0, 0, 0, 0, 0, 0, 0, 0, 0, 0, 0,\n         0, 0, 0, 0, 0, 0, 0, 0, 0, 0, 0, 0, 0, 0, 0, 0, 0, 0, 0, 0, 0, 0, 0, 0,\n         0, 0, 0, 0, 0, 0]], dtype=torch.int8)\n",
     "output_type": "stream"
    }
   ]
  },
  {
   "cell_type": "markdown",
   "source": [
    "### Dataset Creation\n",
    "<a id=part1_4></a>"
   ],
   "metadata": {
    "pycharm": {
     "name": "#%% md\n"
    }
   }
  },
  {
   "cell_type": "markdown",
   "source": [
    "We wish to train our model to generate text by constantly predicting what the next char should be based on the past.\n",
    "To that end we'll need to train our recurrent network in a way similar to a classification task. At each timestep, we input a char and set the expected output (label) to be the next char in the original sequence.\n",
    "\n",
    "We will split our corpus into shorter sequences of length `S` chars (see question below).\n",
    "Each **sample** we provide our model with will therefore be a tensor of shape `(S,V)` where `V` is the embedding dimension. Our model will operate sequentially on each char in the sequence.\n",
    "For each sample, we'll also need a **label**. This is simply another sequence, shifted by one char so that the label of each char is the next char in the corpus."
   ],
   "metadata": {
    "pycharm": {
     "name": "#%% md\n"
    }
   }
  },
  {
   "cell_type": "markdown",
   "source": [
    "**TODO**: Implement the `chars_to_labelled_samples()` function in the `hw3/charnn.py` module."
   ],
   "metadata": {
    "pycharm": {
     "name": "#%% md\n"
    }
   }
  },
  {
   "cell_type": "code",
   "source": [
    "# Create dataset of sequences\n",
    "seq_len = 64\n",
    "vocab_len = len(char_to_idx)\n",
    "\n",
    "# Create labelled samples\n",
    "samples, labels = charnn.chars_to_labelled_samples(corpus, char_to_idx, seq_len, device)\n",
    "print(f'samples shape: {samples.shape}')\n",
    "print(f'labels shape: {labels.shape}')\n",
    "\n",
    "# Test shapes\n",
    "num_samples = (len(corpus) - 1) // seq_len\n",
    "test.assertEqual(samples.shape, (num_samples, seq_len, vocab_len))\n",
    "test.assertEqual(labels.shape, (num_samples, seq_len))\n",
    "\n",
    "# Test content\n",
    "for _ in range(1000):\n",
    "    # random sample\n",
    "    i = np.random.randint(num_samples, size=(1,))[0]\n",
    "    # Compare to corpus\n",
    "    test.assertEqual(unembed(samples[i]), corpus[i*seq_len:(i+1)*seq_len], msg=f\"content mismatch in sample {i}\")\n",
    "    # Compare to labels\n",
    "    sample_text = unembed(samples[i])\n",
    "    label_text = str.join('', [idx_to_char[j.item()] for j in labels[i]])\n",
    "    test.assertEqual(sample_text[1:], label_text[0:-1], msg=f\"label mismatch in sample {i}\")"
   ],
   "metadata": {
    "pycharm": {
     "name": "#%%\n"
    },
    "execution": {
     "iopub.status.busy": "2022-07-01T12:03:32.412460Z",
     "iopub.execute_input": "2022-07-01T12:03:32.412885Z",
     "iopub.status.idle": "2022-07-01T12:03:39.416339Z",
     "shell.execute_reply.started": "2022-07-01T12:03:32.412852Z",
     "shell.execute_reply": "2022-07-01T12:03:39.415223Z"
    },
    "trusted": true
   },
   "execution_count": 14,
   "outputs": [
    {
     "name": "stdout",
     "text": "samples shape: torch.Size([99182, 64, 78])\nlabels shape: torch.Size([99182, 64])\n",
     "output_type": "stream"
    }
   ]
  },
  {
   "cell_type": "markdown",
   "source": [
    "Let's print a few consecutive samples. You should see that the text continues between them."
   ],
   "metadata": {
    "pycharm": {
     "name": "#%% md\n"
    }
   }
  },
  {
   "cell_type": "code",
   "source": [
    "import re\n",
    "import random\n",
    "\n",
    "i = random.randrange(num_samples-5)\n",
    "for i in range(i, i+5):\n",
    "    test.assertEqual(len(samples[i]), seq_len)\n",
    "    s = re.sub(r'\\s+', ' ', unembed(samples[i])).strip()\n",
    "    print(f'sample [{i}]:\\n\\t{s}')"
   ],
   "metadata": {
    "pycharm": {
     "name": "#%%\n"
    },
    "execution": {
     "iopub.status.busy": "2022-07-01T12:03:48.587837Z",
     "iopub.execute_input": "2022-07-01T12:03:48.588249Z",
     "iopub.status.idle": "2022-07-01T12:03:48.625747Z",
     "shell.execute_reply.started": "2022-07-01T12:03:48.588212Z",
     "shell.execute_reply": "2022-07-01T12:03:48.624498Z"
    },
    "trusted": true
   },
   "execution_count": 15,
   "outputs": [
    {
     "name": "stdout",
     "text": "sample [90284]:\n\to some good on her: A peevish self-will'd harlotry it is. Nurse\nsample [90285]:\n\t: See where she comes from shrift with merry look. CAPULET: How\nsample [90286]:\n\tnow, my headstrong! where have you been gadding? JULIET: Where\nsample [90287]:\n\tI have learn'd me to repent the sin Of disobedient opposition T\nsample [90288]:\n\to you and your behests, and am enjoin'd By holy Laurence to fall\n",
     "output_type": "stream"
    }
   ]
  },
  {
   "cell_type": "markdown",
   "source": [
    "As usual, instead of feeding one sample at a time into our model's forward we'll work with **batches** of samples. This means that at every timestep, our model will operate on a batch of chars that are from **different sequences**.\n",
    "Effectively this will allow us to parallelize training our model by dong matrix-matrix multiplications\n",
    "instead of matrix-vector during the forward pass."
   ],
   "metadata": {
    "pycharm": {
     "name": "#%% md\n"
    }
   }
  },
  {
   "cell_type": "markdown",
   "source": [
    "An important nuance is that we need the batches to be **contiguous**, i.e. sample $k$ in batch $j$ should continue sample $k$ from batch $j-1$.\n",
    "The following figure illustrates this:\n",
    "\n",
    "<img src=\"imgs/rnn-batching.png\"/>\n",
    "\n",
    "If we naïvely take consecutive samples into batches, e.g. `[0,1,...,B-1]`, `[B,B+1,...,2B-1]` and so on, we won't have contiguous\n",
    "sequences at the same index between adjacent batches.\n",
    "\n",
    "To accomplish this we need to tell our `DataLoader` which samples to combine together into one batch.\n",
    "We do this by implementing a custom PyTorch `Sampler`, and providing it to our `DataLoader`."
   ],
   "metadata": {
    "pycharm": {
     "name": "#%% md\n"
    }
   }
  },
  {
   "cell_type": "markdown",
   "source": [
    "**TODO**: Implement the `SequenceBatchSampler` class in the `hw3/charnn.py` module."
   ],
   "metadata": {
    "pycharm": {
     "name": "#%% md\n"
    }
   }
  },
  {
   "cell_type": "code",
   "source": [
    "from hw3.charnn import SequenceBatchSampler\n",
    "\n",
    "sampler = SequenceBatchSampler(dataset=range(32), batch_size=10)\n",
    "sampler_idx = list(sampler)\n",
    "print('sampler_idx =\\n', sampler_idx)\n",
    "\n",
    "# Test the Sampler\n",
    "test.assertEqual(len(sampler_idx), 30)\n",
    "batch_idx = np.array(sampler_idx).reshape(-1, 10)\n",
    "for k in range(10):\n",
    "    test.assertEqual(np.diff(batch_idx[:, k], n=2).item(), 0)"
   ],
   "metadata": {
    "pycharm": {
     "name": "#%%\n"
    },
    "execution": {
     "iopub.status.busy": "2022-07-01T12:04:10.447365Z",
     "iopub.execute_input": "2022-07-01T12:04:10.447714Z",
     "iopub.status.idle": "2022-07-01T12:04:10.491986Z",
     "shell.execute_reply.started": "2022-07-01T12:04:10.447683Z",
     "shell.execute_reply": "2022-07-01T12:04:10.490898Z"
    },
    "trusted": true
   },
   "execution_count": 16,
   "outputs": [
    {
     "name": "stdout",
     "text": "sampler_idx =\n [0, 3, 6, 9, 12, 15, 18, 21, 24, 27, 1, 4, 7, 10, 13, 16, 19, 22, 25, 28, 2, 5, 8, 11, 14, 17, 20, 23, 26, 29]\n",
     "output_type": "stream"
    }
   ]
  },
  {
   "cell_type": "markdown",
   "source": [
    "Even though we're working with sequences, we can still use the standard PyTorch `Dataset`/`DataLoader` combo.\n",
    "For the dataset we can use a built-in class, `TensorDataset` to return tuples of `(sample, label)`\n",
    "from the `samples` and `labels` tensors we created above.\n",
    "The `DataLoader` will be provided with our custom `Sampler` so that it generates appropriate batches."
   ],
   "metadata": {
    "pycharm": {
     "name": "#%% md\n"
    }
   }
  },
  {
   "cell_type": "code",
   "source": [
    "import torch.utils.data\n",
    "\n",
    "# Create DataLoader returning batches of samples.\n",
    "batch_size = 32\n",
    "\n",
    "ds_corpus = torch.utils.data.TensorDataset(samples, labels)\n",
    "sampler_corpus = SequenceBatchSampler(ds_corpus, batch_size)\n",
    "dl_corpus = torch.utils.data.DataLoader(ds_corpus, batch_size=batch_size, sampler=sampler_corpus, shuffle=False)"
   ],
   "metadata": {
    "pycharm": {
     "name": "#%%\n"
    },
    "execution": {
     "iopub.status.busy": "2022-07-01T12:04:15.895489Z",
     "iopub.execute_input": "2022-07-01T12:04:15.895840Z",
     "iopub.status.idle": "2022-07-01T12:04:15.933094Z",
     "shell.execute_reply.started": "2022-07-01T12:04:15.895810Z",
     "shell.execute_reply": "2022-07-01T12:04:15.932196Z"
    },
    "trusted": true
   },
   "execution_count": 17,
   "outputs": []
  },
  {
   "cell_type": "markdown",
   "source": [
    "Let's see what that gives us:"
   ],
   "metadata": {
    "pycharm": {
     "name": "#%% md\n"
    }
   }
  },
  {
   "cell_type": "code",
   "source": [
    "print(f'num batches: {len(dl_corpus)}')\n",
    "\n",
    "x0, y0 = next(iter(dl_corpus))\n",
    "print(f'shape of a batch of samples: {x0.shape}')\n",
    "print(f'shape of a batch of labels: {y0.shape}')"
   ],
   "metadata": {
    "pycharm": {
     "name": "#%%\n"
    },
    "execution": {
     "iopub.status.busy": "2022-07-01T12:04:18.635987Z",
     "iopub.execute_input": "2022-07-01T12:04:18.636362Z",
     "iopub.status.idle": "2022-07-01T12:04:18.688831Z",
     "shell.execute_reply.started": "2022-07-01T12:04:18.636328Z",
     "shell.execute_reply": "2022-07-01T12:04:18.687618Z"
    },
    "trusted": true
   },
   "execution_count": 18,
   "outputs": [
    {
     "name": "stdout",
     "text": "num batches: 3100\nshape of a batch of samples: torch.Size([32, 64, 78])\nshape of a batch of labels: torch.Size([32, 64])\n",
     "output_type": "stream"
    }
   ]
  },
  {
   "cell_type": "markdown",
   "source": [
    "Now lets look at the same sample index from multiple batches taken from our corpus."
   ],
   "metadata": {
    "pycharm": {
     "name": "#%% md\n"
    }
   }
  },
  {
   "cell_type": "code",
   "source": [
    "# Check that sentences in in same index of different batches complete each other.\n",
    "k = random.randrange(batch_size)\n",
    "for j, (X, y) in enumerate(dl_corpus,):\n",
    "    print(f'=== batch {j}, sample {k} ({X[k].shape}): ===')\n",
    "    s = re.sub(r'\\s+', ' ', unembed(X[k])).strip()\n",
    "    print(f'\\t{s}')\n",
    "    if j==4: break"
   ],
   "metadata": {
    "pycharm": {
     "name": "#%%\n"
    },
    "execution": {
     "iopub.status.busy": "2022-07-01T12:04:21.888455Z",
     "iopub.execute_input": "2022-07-01T12:04:21.888835Z",
     "iopub.status.idle": "2022-07-01T12:04:21.940050Z",
     "shell.execute_reply.started": "2022-07-01T12:04:21.888794Z",
     "shell.execute_reply": "2022-07-01T12:04:21.939004Z"
    },
    "trusted": true
   },
   "execution_count": 19,
   "outputs": [
    {
     "name": "stdout",
     "text": "=== batch 0, sample 19 (torch.Size([64, 78])): ===\n\ther, Though you are old enough to be my heir. What you w\n=== batch 1, sample 19 (torch.Size([64, 78])): ===\n\till have, I'll give, and willing too; For do we must what fo\n=== batch 2, sample 19 (torch.Size([64, 78])): ===\n\trce will have us do. Set on towards London. Cousin, is it so\n=== batch 3, sample 19 (torch.Size([64, 78])): ===\n\t? BOLINGBROKE. Yea, my good lord. KING RICHARD. Then I must\n=== batch 4, sample 19 (torch.Size([64, 78])): ===\n\tnot say no. Flourish. Exeunt SCENE 4. The DUKE OF YORK'\n",
     "output_type": "stream"
    }
   ]
  },
  {
   "cell_type": "markdown",
   "source": [
    "### Model Implementation\n",
    "<a id=part1_5></a>"
   ],
   "metadata": {
    "pycharm": {
     "name": "#%% md\n"
    }
   }
  },
  {
   "cell_type": "markdown",
   "source": [
    "Finally, our data set is ready so we can focus on our model.\n",
    "\n",
    "We'll implement here is a multilayer gated recurrent unit (GRU) model, with dropout.\n",
    "This model is a type of RNN which performs similar to the well-known LSTM model,\n",
    "but it's somewhat easier to train because it has less parameters.\n",
    "We'll modify the regular GRU slightly by applying dropout to\n",
    "the hidden states passed between layers of the model.\n",
    "\n",
    "The model accepts an input $\\mat{X}\\in\\set{R}^{S\\times V}$ containing a sequence of embedded chars.\n",
    "It returns an output $\\mat{Y}\\in\\set{R}^{S\\times V}$ of predictions for the next char and the final hidden state\n",
    "$\\mat{H}\\in\\set{R}^{L\\times H}$. Here $S$ is the sequence length, $V$ is the vocabulary size (number of unique chars), $L$ is the number of layers in the model and $H$ is the hidden dimension."
   ],
   "metadata": {
    "pycharm": {
     "name": "#%% md\n"
    }
   }
  },
  {
   "cell_type": "markdown",
   "source": [
    "Mathematically, the model's forward function at layer $k\\in[1,L]$ and timestep $t\\in[1,S]$ can be described as\n",
    "\n",
    "$$\n",
    "\\begin{align}\n",
    "\\vec{z_t}^{[k]} &= \\sigma\\left(\\vec{x}^{[k]}_t {\\mattr{W}_{\\mathrm{xz}}}^{[k]} +\n",
    "    \\vec{h}_{t-1}^{[k]} {\\mattr{W}_{\\mathrm{hz}}}^{[k]} + \\vec{b}_{\\mathrm{z}}^{[k]}\\right) \\\\\n",
    "\\vec{r_t}^{[k]} &= \\sigma\\left(\\vec{x}^{[k]}_t {\\mattr{W}_{\\mathrm{xr}}}^{[k]} +\n",
    "    \\vec{h}_{t-1}^{[k]} {\\mattr{W}_{\\mathrm{hr}}}^{[k]} + \\vec{b}_{\\mathrm{r}}^{[k]}\\right) \\\\\n",
    "\\vec{g_t}^{[k]} &= \\tanh\\left(\\vec{x}^{[k]}_t {\\mattr{W}_{\\mathrm{xg}}}^{[k]} +\n",
    "    (\\vec{r_t}^{[k]}\\odot\\vec{h}_{t-1}^{[k]}) {\\mattr{W}_{\\mathrm{hg}}}^{[k]} + \\vec{b}_{\\mathrm{g}}^{[k]}\\right) \\\\\n",
    "\\vec{h_t}^{[k]} &= \\vec{z}^{[k]}_t \\odot \\vec{h}^{[k]}_{t-1} + \\left(1-\\vec{z}^{[k]}_t\\right)\\odot \\vec{g_t}^{[k]}\n",
    "\\end{align}\n",
    "$$"
   ],
   "metadata": {
    "pycharm": {
     "name": "#%% md\n"
    }
   }
  },
  {
   "cell_type": "markdown",
   "source": [
    "The input to each layer is,\n",
    "$$\n",
    "\\mat{X}^{[k]} =\n",
    "\\begin{bmatrix}\n",
    "    {\\vec{x}_1}^{[k]} \\\\ \\vdots \\\\ {\\vec{x}_S}^{[k]}\n",
    "\\end{bmatrix} \n",
    "=\n",
    "\\begin{cases}\n",
    "    \\mat{X} & \\mathrm{if} ~k = 1~ \\\\\n",
    "    \\mathrm{dropout}_p \\left(\n",
    "    \\begin{bmatrix}\n",
    "        {\\vec{h}_1}^{[k-1]} \\\\ \\vdots \\\\ {\\vec{h}_S}^{[k-1]}\n",
    "    \\end{bmatrix} \\right) & \\mathrm{if} ~1 < k \\leq L+1~\n",
    "\\end{cases}.\n",
    "$$"
   ],
   "metadata": {
    "pycharm": {
     "name": "#%% md\n"
    }
   }
  },
  {
   "cell_type": "markdown",
   "source": [
    "The output of the entire model is then,\n",
    "$$\n",
    "\\mat{Y} = \\mat{X}^{[L+1]} {\\mattr{W}_{\\mathrm{hy}}} + \\mat{B}_{\\mathrm{y}}\n",
    "$$"
   ],
   "metadata": {
    "pycharm": {
     "name": "#%% md\n"
    }
   }
  },
  {
   "cell_type": "markdown",
   "source": [
    "and the final hidden state is\n",
    "$$\n",
    "\\mat{H} = \n",
    "\\begin{bmatrix}\n",
    "    {\\vec{h}_S}^{[1]} \\\\ \\vdots \\\\ {\\vec{h}_S}^{[L]}\n",
    "\\end{bmatrix}.\n",
    "$$"
   ],
   "metadata": {
    "pycharm": {
     "name": "#%% md\n"
    }
   }
  },
  {
   "cell_type": "markdown",
   "source": [
    "Notes:\n",
    "- $t\\in[1,S]$ is the timestep, i.e. the current position within the sequence of each sample.\n",
    "- $\\vec{x}_t^{[k]}$ is the input of layer $k$ at timestep $t$, respectively.\n",
    "- The outputs of the **last layer** $\\vec{y}_t^{[L]}$, are the predicted next characters for every input char.\n",
    "  These are similar to class scores in classification tasks.\n",
    "- The hidden states at the **last timestep**, $\\vec{h}_S^{[k]}$, are the final hidden state returned from the model.\n",
    "- $\\sigma(\\cdot)$ is the sigmoid function, i.e. $\\sigma(\\vec{z}) = 1/(1+e^{-\\vec{z}})$ which returns values in $(0,1)$.\n",
    "- $\\tanh(\\cdot)$ is the hyperbolic tangent, i.e. $\\tanh(\\vec{z}) = (e^{2\\vec{z}}-1)/(e^{2\\vec{z}}+1)$ which returns values in $(-1,1)$.\n",
    "- $\\vec{h_t}^{[k]}$ is the hidden state of layer $k$ at time $t$. This can be thought of as the memory of that layer.\n",
    "- $\\vec{g_t}^{[k]}$ is the candidate hidden state for time $t+1$.\n",
    "- $\\vec{z_t}^{[k]}$ is known as the update gate. It combines the previous state with the input to determine how much the current state will be combined with the new candidate state. For example, if $\\vec{z_t}^{[k]}=\\vec{1}$ then the current input has no effect on the output.\n",
    "- $\\vec{r_t}^{[k]}$ is known as the reset gate. It combines the previous state with the input to determine how much of the previous state will affect the current state candidate. For example if $\\vec{r_t}^{[k]}=\\vec{0}$ the previous state has no effect on the current candidate state."
   ],
   "metadata": {
    "pycharm": {
     "name": "#%% md\n"
    }
   }
  },
  {
   "cell_type": "markdown",
   "source": [
    "Here's a graphical representation of the GRU's forward pass at each timestep. The $\\vec{\\tilde{h}}$ in the image is our $\\vec{g}$ (candidate next state).\n",
    "\n",
    "<img src=\"imgs/gru_cell.png\" width=\"400\"/>\n",
    "\n",
    "You can see how the reset and update gates allow the model to completely ignore it's previous state, completely ignore it's input, or any mixture of those states (since the gates are actually continuous and between $(0,1)$)."
   ],
   "metadata": {
    "pycharm": {
     "name": "#%% md\n"
    }
   }
  },
  {
   "cell_type": "markdown",
   "source": [
    "Here's a graphical representation of the entire model.\n",
    "You can ignore the $c_t^{[k]}$ (cell state) variables (which are relevant for LSTM models).\n",
    "Our model has only the hidden state, $h_t^{[k]}$. Also notice that we added dropout between layers (i.e., on the up arrows).\n",
    "\n",
    "<img src=\"imgs/lstm_model.png\" />\n",
    "\n",
    "The purple tensors are inputs (a sequence and initial hidden state per layer), and the green tensors are outputs (another sequence and final hidden state per layer). Each blue block implements the above forward equations.\n",
    "Blocks that are on the same vertical level are at the same layer, and therefore share parameters."
   ],
   "metadata": {
    "pycharm": {
     "name": "#%% md\n"
    }
   }
  },
  {
   "cell_type": "markdown",
   "source": [
    "**TODO**: Implement the `MultilayerGRU` class in the `hw3/charnn.py` module.\n",
    "\n",
    "Notes:\n",
    "- You'll need to handle input **batches** now.\n",
    "  The math is identical to the above, but all the tensors will have an extra batch\n",
    "  dimension as their first dimension.\n",
    "- Use the diagram above to help guide your implementation.\n",
    "  It will help you visualize what shapes to returns where, etc.\n"
   ],
   "metadata": {
    "pycharm": {
     "name": "#%% md\n"
    }
   }
  },
  {
   "cell_type": "code",
   "source": [
    "in_dim = vocab_len\n",
    "h_dim = 256\n",
    "n_layers = 3\n",
    "model = charnn.MultilayerGRU(in_dim, h_dim, out_dim=in_dim, n_layers=n_layers)\n",
    "model = model.to(device)\n",
    "print(model)\n",
    "\n",
    "# Test forward pass\n",
    "y, h = model(x0.to(dtype=torch.float, device=device))\n",
    "print(f'y.shape={y.shape}')\n",
    "print(f'h.shape={h.shape}')\n",
    "\n",
    "test.assertEqual(y.shape, (batch_size, seq_len, vocab_len))\n",
    "test.assertEqual(h.shape, (batch_size, n_layers, h_dim))\n",
    "test.assertEqual(len(list(model.parameters())), 9 * n_layers + 2) "
   ],
   "metadata": {
    "pycharm": {
     "name": "#%%\n"
    },
    "execution": {
     "iopub.status.busy": "2022-07-01T12:04:28.705058Z",
     "iopub.execute_input": "2022-07-01T12:04:28.705809Z",
     "iopub.status.idle": "2022-07-01T12:04:33.081567Z",
     "shell.execute_reply.started": "2022-07-01T12:04:28.705773Z",
     "shell.execute_reply": "2022-07-01T12:04:33.080580Z"
    },
    "trusted": true
   },
   "execution_count": 20,
   "outputs": [
    {
     "name": "stdout",
     "text": "MultilayerGRU(\n  (xz_0): Linear(in_features=78, out_features=256, bias=True)\n  (hz_0): Linear(in_features=256, out_features=256, bias=False)\n  (xr_0): Linear(in_features=78, out_features=256, bias=True)\n  (hr_0): Linear(in_features=256, out_features=256, bias=False)\n  (xg_0): Linear(in_features=78, out_features=256, bias=True)\n  (hg_0): Linear(in_features=256, out_features=256, bias=False)\n  (xz_1): Linear(in_features=256, out_features=256, bias=True)\n  (hz_1): Linear(in_features=256, out_features=256, bias=False)\n  (xr_1): Linear(in_features=256, out_features=256, bias=True)\n  (hr_1): Linear(in_features=256, out_features=256, bias=False)\n  (xg_1): Linear(in_features=256, out_features=256, bias=True)\n  (hg_1): Linear(in_features=256, out_features=256, bias=False)\n  (xz_2): Linear(in_features=256, out_features=256, bias=True)\n  (hz_2): Linear(in_features=256, out_features=256, bias=False)\n  (xr_2): Linear(in_features=256, out_features=256, bias=True)\n  (hr_2): Linear(in_features=256, out_features=256, bias=False)\n  (xg_2): Linear(in_features=256, out_features=256, bias=True)\n  (hg_2): Linear(in_features=256, out_features=256, bias=False)\n  (dropout): Dropout(p=0, inplace=False)\n  (out): Linear(in_features=256, out_features=78, bias=True)\n)\ny.shape=torch.Size([32, 64, 78])\nh.shape=torch.Size([32, 3, 256])\n",
     "output_type": "stream"
    }
   ]
  },
  {
   "cell_type": "markdown",
   "source": [
    "### Generating text by sampling\n",
    "<a id=part1_6></a>"
   ],
   "metadata": {
    "pycharm": {
     "name": "#%% md\n"
    }
   }
  },
  {
   "cell_type": "markdown",
   "source": [
    "Now that we have a model, we can implement **text generation** based on it.\n",
    "The idea is simple:\n",
    "At each timestep our model receives one char $x_t$ from the input sequence and outputs scores $y_t$\n",
    "for what the next char should be.\n",
    "We'll convert these scores into a probability over each of the possible chars.\n",
    "In other words, for each input char $x_t$ we create a probability distribution for the next char\n",
    "conditioned on the current one and the state of the model (representing all previous inputs):\n",
    "$$p(x_{t+1}|x_t, \\vec{h}_t).$$\n",
    "\n",
    "Once we have such a distribution, we'll sample a char from it.\n",
    "This will be the first char of our generated sequence.\n",
    "Now we can feed this new char into the model, create another distribution, sample the next char and so on.\n",
    "Note that it's crucial to propagate the hidden state when sampling."
   ],
   "metadata": {
    "pycharm": {
     "name": "#%% md\n"
    }
   }
  },
  {
   "cell_type": "markdown",
   "source": [
    "The important point however is how to create the distribution from the scores.\n",
    "One way, as we saw in previous ML tasks, is to use the softmax function.\n",
    "However, a drawback of softmax is that it can generate very diffuse (more uniform) distributions if the score values are very similar. When sampling, we would prefer to control the distributions and make them less uniform to increase the chance of sampling the char(s) with the highest scores compared to the others.\n",
    "\n",
    "To control the variance of the distribution, a common trick is to add a hyperparameter $T$, known as the \n",
    "*temperature* to the softmax function. The class scores are simply scaled by $T$ before softmax is applied:\n",
    "$$\n",
    "\\mathrm{softmax}_T(\\vec{y}) = \\frac{e^{\\vec{y}/T}}{\\sum_k e^{y_k/T}}\n",
    "$$\n",
    "\n",
    "A low $T$ will result in less uniform distributions and vice-versa."
   ],
   "metadata": {
    "pycharm": {
     "name": "#%% md\n"
    }
   }
  },
  {
   "cell_type": "markdown",
   "source": [
    "**TODO**: Implement the `hot_softmax()` function in the `hw3/charnn.py` module."
   ],
   "metadata": {
    "pycharm": {
     "name": "#%% md\n"
    }
   }
  },
  {
   "cell_type": "code",
   "source": [
    "scores = y[0,0,:].detach()\n",
    "_, ax = plt.subplots(figsize=(15,5))\n",
    "\n",
    "for t in reversed([0.3, 0.5, 1.0, 100]):\n",
    "    ax.plot(charnn.hot_softmax(scores, temperature=t).cpu().numpy(), label=f'T={t}')\n",
    "ax.set_xlabel('$x_{t+1}$')\n",
    "ax.set_ylabel('$p(x_{t+1}|x_t)$')\n",
    "ax.legend()\n",
    "\n",
    "uniform_proba = 1/len(char_to_idx)\n",
    "uniform_diff = torch.abs(charnn.hot_softmax(scores, temperature=100) - uniform_proba)\n",
    "test.assertTrue(torch.all(uniform_diff < 1e-4))"
   ],
   "metadata": {
    "pycharm": {
     "name": "#%%\n"
    },
    "execution": {
     "iopub.status.busy": "2022-07-01T12:05:12.863603Z",
     "iopub.execute_input": "2022-07-01T12:05:12.864065Z",
     "iopub.status.idle": "2022-07-01T12:05:13.217000Z",
     "shell.execute_reply.started": "2022-07-01T12:05:12.864026Z",
     "shell.execute_reply": "2022-07-01T12:05:13.216076Z"
    },
    "trusted": true
   },
   "execution_count": 22,
   "outputs": [
    {
     "output_type": "display_data",
     "data": {
      "text/plain": "<Figure size 1080x360 with 1 Axes>",
      "image/png": "[encoded data removed]"
     },
     "metadata": {
      "needs_background": "light"
     }
    }
   ]
  },
  {
   "cell_type": "markdown",
   "source": [
    "**TODO**: Implement the `generate_from_model()` function in the `hw3/charnn.py` module."
   ],
   "metadata": {
    "pycharm": {
     "name": "#%% md\n"
    }
   }
  },
  {
   "cell_type": "code",
   "source": [
    "for _ in range(3):\n",
    "    text = charnn.generate_from_model(model, \"foobar\", 50, (char_to_idx, idx_to_char), T=0.5)\n",
    "    print(text)\n",
    "    test.assertEqual(len(text), 50)"
   ],
   "metadata": {
    "pycharm": {
     "name": "#%%\n"
    },
    "execution": {
     "iopub.status.busy": "2022-07-01T12:05:23.159591Z",
     "iopub.execute_input": "2022-07-01T12:05:23.160017Z",
     "iopub.status.idle": "2022-07-01T12:05:23.578217Z",
     "shell.execute_reply.started": "2022-07-01T12:05:23.159983Z",
     "shell.execute_reply": "2022-07-01T12:05:23.577210Z"
    },
    "trusted": true
   },
   "execution_count": 23,
   "outputs": [
    {
     "name": "stdout",
     "text": "foobarV(h(jA1p9B\"sEpJ[4qpb9:k]GrOAV;LcC2ynET8;G0jH\nfoobar?u8nW74LThfh1 n3Eu4qWx4QnSFyGUmD,NeAiu&1s'31\nfoobarf2Lyj,D;9dETB1g8oXa OSE-b(b'kN91[v[rJ D63,Uf\n",
     "output_type": "stream"
    }
   ]
  },
  {
   "cell_type": "markdown",
   "source": [
    "### Training\n",
    "<a id=part1_7></a>"
   ],
   "metadata": {
    "pycharm": {
     "name": "#%% md\n"
    }
   }
  },
  {
   "cell_type": "markdown",
   "source": [
    "To train this model, we'll calculate the loss at each time step by comparing the predicted char to\n",
    "the actual char from our label. We can use cross entropy since per char it's similar to a classification problem.\n",
    "We'll then sum the losses over the sequence and back-propagate the gradients though time.\n",
    "Notice that the back-propagation algorithm will \"visit\" each layer's parameter tensors multiple times,\n",
    "so we'll accumulate gradients in parameters of the blocks. Luckily `autograd` will handle this part for us."
   ],
   "metadata": {
    "pycharm": {
     "name": "#%% md\n"
    }
   }
  },
  {
   "cell_type": "markdown",
   "source": [
    "As usual, the first step of training will be to try and **overfit** a large model (many parameters) to a tiny dataset.\n",
    "Again, this is to ensure the model and training code are implemented correctly, i.e. that the model can learn.\n",
    "\n",
    "For a generative model such as this, overfitting is slightly trickier than for classification.\n",
    "What we'll aim to do is to get our model to **memorize** a specific sequence of chars, so that when given the first\n",
    "char in the sequence it will immediately spit out the rest of the sequence verbatim.\n",
    "\n",
    "Let's create a tiny dataset to memorize."
   ],
   "metadata": {
    "pycharm": {
     "name": "#%% md\n"
    }
   }
  },
  {
   "cell_type": "code",
   "source": [
    "# Pick a tiny subset of the dataset\n",
    "subset_start, subset_end = 1001, 1005\n",
    "ds_corpus_ss = torch.utils.data.Subset(ds_corpus, range(subset_start, subset_end))\n",
    "batch_size_ss = 1\n",
    "sampler_ss = SequenceBatchSampler(ds_corpus_ss, batch_size=batch_size_ss)\n",
    "dl_corpus_ss = torch.utils.data.DataLoader(ds_corpus_ss, batch_size_ss, sampler=sampler_ss, shuffle=False)\n",
    "\n",
    "# Convert subset to text\n",
    "subset_text = ''\n",
    "for i in range(subset_end - subset_start):\n",
    "    subset_text += unembed(ds_corpus_ss[i][0])\n",
    "print(f'Text to \"memorize\":\\n\\n{subset_text}')"
   ],
   "metadata": {
    "pycharm": {
     "name": "#%%\n"
    },
    "execution": {
     "iopub.status.busy": "2022-07-01T12:05:33.439729Z",
     "iopub.execute_input": "2022-07-01T12:05:33.440076Z",
     "iopub.status.idle": "2022-07-01T12:05:33.480105Z",
     "shell.execute_reply.started": "2022-07-01T12:05:33.440045Z",
     "shell.execute_reply": "2022-07-01T12:05:33.478922Z"
    },
    "trusted": true
   },
   "execution_count": 24,
   "outputs": [
    {
     "name": "stdout",
     "text": "Text to \"memorize\":\n\nTRAM. What would you have?\n  HELENA. Something; and scarce so much; nothing, indeed.\n    I would not tell you what I would, my lord.\n    Faith, yes:\n    Strangers and foes do sunder and not kiss.\n  BERTRAM. I pray you, stay not, but in haste to horse.\n  HE\n",
     "output_type": "stream"
    }
   ]
  },
  {
   "cell_type": "markdown",
   "source": [
    "Now let's implement the first part of our training code.\n",
    "\n",
    "**TODO**: Implement the `train_epoch()` and `train_batch()` methods of the `RNNTrainer` class in the `hw3/training.py` module. \n",
    "You must think about how to correctly handle the hidden state of the model between batches and epochs for this specific task (i.e. text generation)."
   ],
   "metadata": {
    "pycharm": {
     "name": "#%% md\n"
    }
   }
  },
  {
   "cell_type": "code",
   "source": [
    "import torch.nn as nn\n",
    "import torch.optim as optim\n",
    "from hw3.training import RNNTrainer\n",
    "\n",
    "torch.manual_seed(42)\n",
    "\n",
    "lr = 0.01\n",
    "num_epochs = 500\n",
    "\n",
    "in_dim = vocab_len\n",
    "h_dim = 128\n",
    "n_layers = 2\n",
    "loss_fn = nn.CrossEntropyLoss()\n",
    "model = charnn.MultilayerGRU(in_dim, h_dim, out_dim=in_dim, n_layers=n_layers).to(device)\n",
    "optimizer = optim.Adam(model.parameters(), lr=lr)\n",
    "trainer = RNNTrainer(model, loss_fn, optimizer, device)\n",
    "\n",
    "for epoch in range(num_epochs):\n",
    "    epoch_result = trainer.train_epoch(dl_corpus_ss, verbose=False)\n",
    "    \n",
    "    # Every X epochs, we'll generate a sequence starting from the first char in the first sequence\n",
    "    # to visualize how/if/what the model is learning.\n",
    "    if epoch == 0 or (epoch+1) % 25 == 0:\n",
    "        avg_loss = np.mean(epoch_result.losses)\n",
    "        accuracy = np.mean(epoch_result.accuracy)\n",
    "        print(f'\\nEpoch #{epoch+1}: Avg. loss = {avg_loss:.3f}, Accuracy = {accuracy:.2f}%')\n",
    "        \n",
    "        generated_sequence = charnn.generate_from_model(model, subset_text[0],\n",
    "                                                        seq_len*(subset_end-subset_start),\n",
    "                                                        (char_to_idx,idx_to_char), T=0.1)\n",
    "        \n",
    "        # Stop if we've successfully memorized the small dataset.\n",
    "        print(generated_sequence)\n",
    "        if generated_sequence == subset_text:\n",
    "            break\n",
    "\n",
    "# Test successful overfitting\n",
    "test.assertGreater(epoch_result.accuracy, 99)\n",
    "test.assertEqual(generated_sequence, subset_text)"
   ],
   "metadata": {
    "pycharm": {
     "name": "#%%\n"
    },
    "execution": {
     "iopub.status.busy": "2022-07-01T12:07:14.494280Z",
     "iopub.execute_input": "2022-07-01T12:07:14.495144Z",
     "iopub.status.idle": "2022-07-01T12:07:39.196649Z",
     "shell.execute_reply.started": "2022-07-01T12:07:14.495108Z",
     "shell.execute_reply": "2022-07-01T12:07:39.195512Z"
    },
    "trusted": true
   },
   "execution_count": 33,
   "outputs": [
    {
     "name": "stdout",
     "text": "\nEpoch #1: Avg. loss = 3.942, Accuracy = 17.58%\nT.      t   t t t tt  tt tttt tt  tt    tt t   tt  t  ttt tt t  t    tt  t  ttt      t tt  ttt   tt   t    tt t t     t ttt  t       t ttttt t t      tt t tt tt   t  t tt  t    tt   t tttt t  t tt tttt ttt   ttt       ttttt ttttt t tt ttttttt  t   tttttt  \n\nEpoch #25: Avg. loss = 1.505, Accuracy = 57.81%\nTAAM. Wand hat would you hat would you hingh\n    you hat would not indeee \n     you hingh\n    you hingeu  would not angeeee \n    would you hat not inghingeeee \n      you hinge hit ingeeee \n     you hat you hat you hingeeee \n     you hingeee hingeeee \n     \n\nEpoch #50: Avg. loss = 0.060, Accuracy = 100.00%\nTRAM. What would you have?\n  HELENA. Something; and scarce so much; nothing, indeed.\n    I would not tell you what I would, my lord.\n    Faith, yes:\n    Strangers and foes do sunder and not kiss.\n  BERTRAM. I pray you, stay not, but in haste to horse.\n  HE\n",
     "output_type": "stream"
    }
   ]
  },
  {
   "cell_type": "markdown",
   "source": [
    "OK, so training works - we can memorize a short sequence.\n",
    "We'll now train a much larger model on our large dataset. You'll need a GPU for this part.\n",
    "\n",
    "First, lets set up our dataset and models for training.\n",
    "We'll split our corpus into 90% train and 10% test-set.\n",
    "Also, we'll use a learning-rate scheduler to control the learning rate during training."
   ],
   "metadata": {
    "pycharm": {
     "name": "#%% md\n"
    }
   }
  },
  {
   "cell_type": "markdown",
   "source": [
    "**TODO**: Set the hyperparameters in the `part1_rnn_hyperparams()` function of the `hw3/answers.py` module."
   ],
   "metadata": {
    "pycharm": {
     "name": "#%% md\n"
    }
   }
  },
  {
   "cell_type": "code",
   "source": [
    "from hw3.answers import part1_rnn_hyperparams\n",
    "\n",
    "hp = part1_rnn_hyperparams()\n",
    "print('hyperparams:\\n', hp)\n",
    "\n",
    "### Dataset definition\n",
    "vocab_len = len(char_to_idx)\n",
    "batch_size = hp['batch_size']\n",
    "seq_len = hp['seq_len']\n",
    "train_test_ratio = 0.9\n",
    "num_samples = (len(corpus) - 1) // seq_len\n",
    "num_train = int(train_test_ratio * num_samples)\n",
    "\n",
    "samples, labels = charnn.chars_to_labelled_samples(corpus, char_to_idx, seq_len, device)\n",
    "\n",
    "ds_train = torch.utils.data.TensorDataset(samples[:num_train], labels[:num_train])\n",
    "sampler_train = SequenceBatchSampler(ds_train, batch_size)\n",
    "dl_train = torch.utils.data.DataLoader(ds_train, batch_size, shuffle=False, sampler=sampler_train, drop_last=True)\n",
    "\n",
    "ds_test = torch.utils.data.TensorDataset(samples[num_train:], labels[num_train:])\n",
    "sampler_test = SequenceBatchSampler(ds_test, batch_size)\n",
    "dl_test = torch.utils.data.DataLoader(ds_test, batch_size, shuffle=False, sampler=sampler_test, drop_last=True)\n",
    "\n",
    "print(f'Train: {len(dl_train):3d} batches, {len(dl_train)*batch_size*seq_len:7d} chars')\n",
    "print(f'Test:  {len(dl_test):3d} batches, {len(dl_test)*batch_size*seq_len:7d} chars')\n",
    "\n",
    "### Training definition\n",
    "in_dim = out_dim = vocab_len\n",
    "checkpoint_file = 'checkpoints/rnn'\n",
    "num_epochs = 50\n",
    "early_stopping = 5\n",
    "\n",
    "model = charnn.MultilayerGRU(in_dim, hp['h_dim'], out_dim, hp['n_layers'], hp['dropout'])\n",
    "loss_fn = nn.CrossEntropyLoss()\n",
    "optimizer = optim.Adam(model.parameters(), lr=hp['learn_rate'])\n",
    "scheduler = optim.lr_scheduler.ReduceLROnPlateau(\n",
    "    optimizer, mode='max', factor=hp['lr_sched_factor'], patience=hp['lr_sched_patience'], verbose=True\n",
    ")\n",
    "trainer = RNNTrainer(model, loss_fn, optimizer, device)"
   ],
   "metadata": {
    "pycharm": {
     "name": "#%%\n"
    },
    "execution": {
     "iopub.status.busy": "2022-07-01T12:08:41.527582Z",
     "iopub.execute_input": "2022-07-01T12:08:41.528191Z",
     "iopub.status.idle": "2022-07-01T12:08:47.991274Z",
     "shell.execute_reply.started": "2022-07-01T12:08:41.528133Z",
     "shell.execute_reply": "2022-07-01T12:08:47.990237Z"
    },
    "trusted": true
   },
   "execution_count": 36,
   "outputs": [
    {
     "name": "stdout",
     "text": "hyperparams:\n {'batch_size': 256, 'seq_len': 64, 'h_dim': 128, 'n_layers': 3, 'dropout': 0.4, 'learn_rate': 0.001, 'lr_sched_factor': 0.5, 'lr_sched_patience': 2}\nTrain: 348 batches, 5701632 chars\nTest:   38 batches,  622592 chars\n",
     "output_type": "stream"
    }
   ]
  },
  {
   "cell_type": "markdown",
   "source": [
    "The code blocks below will train the model and save checkpoints containing the training state and the best model parameters to a file. This allows you to stop training and resume it later from where you left.\n",
    "\n",
    "Note that you can use the `main.py` script provided within the assignment folder to run this notebook from the command line as if it were a python script by using the `run-nb` subcommand. This allows you to train your model using this notebook without starting jupyter. You can combine this with `srun` or `sbatch` to run the notebook with a GPU on the course servers."
   ],
   "metadata": {
    "pycharm": {
     "name": "#%% md\n"
    }
   }
  },
  {
   "cell_type": "markdown",
   "source": [
    "**TODO**:\n",
    "- Implement the `fit()` method of the `Trainer` class. You can reuse the relevant implementation parts from HW2, but make sure to implement early stopping and checkpoints.\n",
    "- Implement the `test_epoch()` and `test_batch()` methods of the `RNNTrainer` class in the `hw3/training.py` module.\n",
    "- Run the following block to train.\n",
    "- When training is done and you're satisfied with the model's outputs, rename the checkpoint file to `checkpoints/rnn_final.pt`.\n",
    "  This will cause the block to skip training and instead load your saved model when running the homework submission script.\n",
    "  Note that your submission zip file will not include the checkpoint file. This is OK."
   ],
   "metadata": {
    "pycharm": {
     "name": "#%% md\n"
    }
   }
  },
  {
   "cell_type": "code",
   "source": [
    "from cs236781.plot import plot_fit\n",
    "\n",
    "def post_epoch_fn(epoch, train_res, test_res, verbose):\n",
    "    # Update learning rate\n",
    "    scheduler.step(test_res.accuracy)\n",
    "    # Sample from model to show progress\n",
    "    if verbose:\n",
    "        start_seq = \"ACT I.\"\n",
    "        generated_sequence = charnn.generate_from_model(\n",
    "            model, start_seq, 100, (char_to_idx,idx_to_char), T=0.5\n",
    "        )\n",
    "        print(generated_sequence)\n",
    "\n",
    "# Train, unless final checkpoint is found\n",
    "checkpoint_file_final = f'{checkpoint_file}_final.pt'\n",
    "if os.path.isfile(checkpoint_file_final):\n",
    "    print(f'*** Loading final checkpoint file {checkpoint_file_final} instead of training')\n",
    "    saved_state = torch.load(checkpoint_file_final, map_location=device)\n",
    "    model.load_state_dict(saved_state['model_state'])\n",
    "else:\n",
    "    try:\n",
    "        # Print pre-training sampling\n",
    "        print(charnn.generate_from_model(model, \"ACT I.\", 100, (char_to_idx,idx_to_char), T=0.5))\n",
    "\n",
    "        fit_res = trainer.fit(dl_train, dl_test, num_epochs, max_batches=None,\n",
    "                              post_epoch_fn=post_epoch_fn, early_stopping=early_stopping,\n",
    "                              checkpoints=checkpoint_file, print_every=1)\n",
    "        \n",
    "        fig, axes = plot_fit(fit_res)\n",
    "    except KeyboardInterrupt as e:\n",
    "        print('\\n *** Training interrupted by user')"
   ],
   "metadata": {
    "pycharm": {
     "name": "#%%\n"
    },
    "execution": {
     "iopub.status.busy": "2022-07-01T12:14:18.107656Z",
     "iopub.execute_input": "2022-07-01T12:14:18.108008Z",
     "iopub.status.idle": "2022-07-01T13:09:19.505030Z",
     "shell.execute_reply.started": "2022-07-01T12:14:18.107977Z",
     "shell.execute_reply": "2022-07-01T13:09:19.504057Z"
    },
    "trusted": true
   },
   "execution_count": 41,
   "outputs": [
    {
     "name": "stdout",
     "text": "ACT I. Whas mack so let tho me in tham and and hour the the fores bate,\n    Thit you the that ther c\n--- EPOCH 1/50 ---\n",
     "output_type": "stream"
    },
    {
     "output_type": "display_data",
     "data": {
      "text/plain": "train_batch:   0%|          | 0/348 [00:00<?, ?it/s]",
      "application/vnd.jupyter.widget-view+json": {
       "version_major": 2,
       "version_minor": 0,
       "model_id": "06ecab1dc8d04e999aee1204abc2724a"
      }
     },
     "metadata": {}
    },
    {
     "output_type": "display_data",
     "data": {
      "text/plain": "test_batch:   0%|          | 0/38 [00:00<?, ?it/s]",
      "application/vnd.jupyter.widget-view+json": {
       "version_major": 2,
       "version_minor": 0,
       "model_id": "cc4af16c3c1240c8bf8d8928cfda5608"
      }
     },
     "metadata": {}
    },
    {
     "name": "stdout",
     "text": "ACT I. Where mare conther nime;\n    And and is of hould dean the me thou bard for the lingantles of \n--- EPOCH 2/50 ---\n",
     "output_type": "stream"
    },
    {
     "output_type": "display_data",
     "data": {
      "text/plain": "train_batch:   0%|          | 0/348 [00:00<?, ?it/s]",
      "application/vnd.jupyter.widget-view+json": {
       "version_major": 2,
       "version_minor": 0,
       "model_id": "ed7d73f18afe41bf92cf43357df5d51c"
      }
     },
     "metadata": {}
    },
    {
     "output_type": "display_data",
     "data": {
      "text/plain": "test_batch:   0%|          | 0/38 [00:00<?, ?it/s]",
      "application/vnd.jupyter.widget-view+json": {
       "version_major": 2,
       "version_minor": 0,
       "model_id": "e8bf601421f14418b00e26933e4563b6"
      }
     },
     "metadata": {}
    },
    {
     "name": "stdout",
     "text": "ACT I. What how thou the candon the hand,\n    The word bath retarten the rone and potter here.\n  ANS\n--- EPOCH 3/50 ---\n",
     "output_type": "stream"
    },
    {
     "output_type": "display_data",
     "data": {
      "text/plain": "train_batch:   0%|          | 0/348 [00:00<?, ?it/s]",
      "application/vnd.jupyter.widget-view+json": {
       "version_major": 2,
       "version_minor": 0,
       "model_id": "b2f2c23e900b411690df7eba74235a63"
      }
     },
     "metadata": {}
    },
    {
     "output_type": "display_data",
     "data": {
      "text/plain": "test_batch:   0%|          | 0/38 [00:00<?, ?it/s]",
      "application/vnd.jupyter.widget-view+json": {
       "version_major": 2,
       "version_minor": 0,
       "model_id": "56a70c97f757425a89bc7d7d698d5c90"
      }
     },
     "metadata": {}
    },
    {
     "name": "stdout",
     "text": "ACT I. The had have not with appease of my lord,\n    And be the receany and come to the pray it son \n--- EPOCH 4/50 ---\n",
     "output_type": "stream"
    },
    {
     "output_type": "display_data",
     "data": {
      "text/plain": "train_batch:   0%|          | 0/348 [00:00<?, ?it/s]",
      "application/vnd.jupyter.widget-view+json": {
       "version_major": 2,
       "version_minor": 0,
       "model_id": "4885d5ca9b604f37b7d5aee372e57030"
      }
     },
     "metadata": {}
    },
    {
     "output_type": "display_data",
     "data": {
      "text/plain": "test_batch:   0%|          | 0/38 [00:00<?, ?it/s]",
      "application/vnd.jupyter.widget-view+json": {
       "version_major": 2,
       "version_minor": 0,
       "model_id": "42b05afb5d644f8fbf6e9413e9c762a5"
      }
     },
     "metadata": {}
    },
    {
     "name": "stdout",
     "text": "ACT I.\n\nANTINGOR:\nWhere is a forther be my more of the courtess;\n    Them so man the soldess and pre\n--- EPOCH 5/50 ---\n",
     "output_type": "stream"
    },
    {
     "output_type": "display_data",
     "data": {
      "text/plain": "train_batch:   0%|          | 0/348 [00:00<?, ?it/s]",
      "application/vnd.jupyter.widget-view+json": {
       "version_major": 2,
       "version_minor": 0,
       "model_id": "d57dfc76127b4751ae74219a4cec1939"
      }
     },
     "metadata": {}
    },
    {
     "output_type": "display_data",
     "data": {
      "text/plain": "test_batch:   0%|          | 0/38 [00:00<?, ?it/s]",
      "application/vnd.jupyter.widget-view+json": {
       "version_major": 2,
       "version_minor": 0,
       "model_id": "53dabfb11b614a02ad90115225c2107d"
      }
     },
     "metadata": {}
    },
    {
     "name": "stdout",
     "text": "ACT I.\n    What as the plother my lives the corner to there in the command.\n    The forth the comes \n--- EPOCH 6/50 ---\n",
     "output_type": "stream"
    },
    {
     "output_type": "display_data",
     "data": {
      "text/plain": "train_batch:   0%|          | 0/348 [00:00<?, ?it/s]",
      "application/vnd.jupyter.widget-view+json": {
       "version_major": 2,
       "version_minor": 0,
       "model_id": "76799a8600c8436ba2885203ed92906b"
      }
     },
     "metadata": {}
    },
    {
     "output_type": "display_data",
     "data": {
      "text/plain": "test_batch:   0%|          | 0/38 [00:00<?, ?it/s]",
      "application/vnd.jupyter.widget-view+json": {
       "version_major": 2,
       "version_minor": 0,
       "model_id": "fc7e562fcbf341bfa901091ccdeb2771"
      }
     },
     "metadata": {}
    },
    {
     "name": "stdout",
     "text": "ACT I.\n    The not be to the father, and the grieves take\n    To serve us of the going and me, and t\n--- EPOCH 7/50 ---\n",
     "output_type": "stream"
    },
    {
     "output_type": "display_data",
     "data": {
      "text/plain": "train_batch:   0%|          | 0/348 [00:00<?, ?it/s]",
      "application/vnd.jupyter.widget-view+json": {
       "version_major": 2,
       "version_minor": 0,
       "model_id": "0d890996dcac4266be0cd77d9d6fe876"
      }
     },
     "metadata": {}
    },
    {
     "output_type": "display_data",
     "data": {
      "text/plain": "test_batch:   0%|          | 0/38 [00:00<?, ?it/s]",
      "application/vnd.jupyter.widget-view+json": {
       "version_major": 2,
       "version_minor": 0,
       "model_id": "281622e263a34897aedf13d6605abccc"
      }
     },
     "metadata": {}
    },
    {
     "name": "stdout",
     "text": "ACT I.\n\n                                                                                            \n--- EPOCH 8/50 ---\n",
     "output_type": "stream"
    },
    {
     "output_type": "display_data",
     "data": {
      "text/plain": "train_batch:   0%|          | 0/348 [00:00<?, ?it/s]",
      "application/vnd.jupyter.widget-view+json": {
       "version_major": 2,
       "version_minor": 0,
       "model_id": "b3024cb573e14340a5a95be11a89d362"
      }
     },
     "metadata": {}
    },
    {
     "output_type": "display_data",
     "data": {
      "text/plain": "test_batch:   0%|          | 0/38 [00:00<?, ?it/s]",
      "application/vnd.jupyter.widget-view+json": {
       "version_major": 2,
       "version_minor": 0,
       "model_id": "561ca196097d4eb7844a5f39357d3ceb"
      }
     },
     "metadata": {}
    },
    {
     "name": "stdout",
     "text": "ACT I.\n                                                                                             \n--- EPOCH 9/50 ---\n",
     "output_type": "stream"
    },
    {
     "output_type": "display_data",
     "data": {
      "text/plain": "train_batch:   0%|          | 0/348 [00:00<?, ?it/s]",
      "application/vnd.jupyter.widget-view+json": {
       "version_major": 2,
       "version_minor": 0,
       "model_id": "2a320d97b2db448197e41634b02e86c1"
      }
     },
     "metadata": {}
    },
    {
     "output_type": "display_data",
     "data": {
      "text/plain": "test_batch:   0%|          | 0/38 [00:00<?, ?it/s]",
      "application/vnd.jupyter.widget-view+json": {
       "version_major": 2,
       "version_minor": 0,
       "model_id": "379429a12d614a1eb938cc8fa477a178"
      }
     },
     "metadata": {}
    },
    {
     "name": "stdout",
     "text": "ACT I.\n                                                                                             \n--- EPOCH 10/50 ---\n",
     "output_type": "stream"
    },
    {
     "output_type": "display_data",
     "data": {
      "text/plain": "train_batch:   0%|          | 0/348 [00:00<?, ?it/s]",
      "application/vnd.jupyter.widget-view+json": {
       "version_major": 2,
       "version_minor": 0,
       "model_id": "046a647a5724434e86f3249d9e437083"
      }
     },
     "metadata": {}
    },
    {
     "output_type": "display_data",
     "data": {
      "text/plain": "test_batch:   0%|          | 0/38 [00:00<?, ?it/s]",
      "application/vnd.jupyter.widget-view+json": {
       "version_major": 2,
       "version_minor": 0,
       "model_id": "885b0e5cf2314788a1ec250fe2c49118"
      }
     },
     "metadata": {}
    },
    {
     "name": "stdout",
     "text": "ACT I. Marry, and the rest\n    And the content and hands and the sun of with a,\n    You shall be a m\n--- EPOCH 11/50 ---\n",
     "output_type": "stream"
    },
    {
     "output_type": "display_data",
     "data": {
      "text/plain": "train_batch:   0%|          | 0/348 [00:00<?, ?it/s]",
      "application/vnd.jupyter.widget-view+json": {
       "version_major": 2,
       "version_minor": 0,
       "model_id": "5dfa5af9b40e4d1eb76a628fb61f1f05"
      }
     },
     "metadata": {}
    },
    {
     "output_type": "display_data",
     "data": {
      "text/plain": "test_batch:   0%|          | 0/38 [00:00<?, ?it/s]",
      "application/vnd.jupyter.widget-view+json": {
       "version_major": 2,
       "version_minor": 0,
       "model_id": "194e542dc1c4432cab5ab3775ca0f82f"
      }
     },
     "metadata": {}
    },
    {
     "name": "stdout",
     "text": "ACT I.\n                                                                                             \n--- EPOCH 12/50 ---\n",
     "output_type": "stream"
    },
    {
     "output_type": "display_data",
     "data": {
      "text/plain": "train_batch:   0%|          | 0/348 [00:00<?, ?it/s]",
      "application/vnd.jupyter.widget-view+json": {
       "version_major": 2,
       "version_minor": 0,
       "model_id": "6c16233243f443f2a9807bb5c641263e"
      }
     },
     "metadata": {}
    },
    {
     "output_type": "display_data",
     "data": {
      "text/plain": "test_batch:   0%|          | 0/38 [00:00<?, ?it/s]",
      "application/vnd.jupyter.widget-view+json": {
       "version_major": 2,
       "version_minor": 0,
       "model_id": "5cbf6e992ff94968b0aab7bff287f8f3"
      }
     },
     "metadata": {}
    },
    {
     "name": "stdout",
     "text": "ACT I.\n                                                                                             \n--- EPOCH 13/50 ---\n",
     "output_type": "stream"
    },
    {
     "output_type": "display_data",
     "data": {
      "text/plain": "train_batch:   0%|          | 0/348 [00:00<?, ?it/s]",
      "application/vnd.jupyter.widget-view+json": {
       "version_major": 2,
       "version_minor": 0,
       "model_id": "abb291534d3e4c1a9144eadd42e87e63"
      }
     },
     "metadata": {}
    },
    {
     "output_type": "display_data",
     "data": {
      "text/plain": "test_batch:   0%|          | 0/38 [00:00<?, ?it/s]",
      "application/vnd.jupyter.widget-view+json": {
       "version_major": 2,
       "version_minor": 0,
       "model_id": "57120e09e4d04812a7e21ecc38fe4899"
      }
     },
     "metadata": {}
    },
    {
     "name": "stdout",
     "text": "ACT I.\n\nSICINIUS:\nMy lord, but a before with set death,\n    And the compored of the instress for lov\n--- EPOCH 14/50 ---\n",
     "output_type": "stream"
    },
    {
     "output_type": "display_data",
     "data": {
      "text/plain": "train_batch:   0%|          | 0/348 [00:00<?, ?it/s]",
      "application/vnd.jupyter.widget-view+json": {
       "version_major": 2,
       "version_minor": 0,
       "model_id": "0e394af18e494e95bbc5f883661a75e6"
      }
     },
     "metadata": {}
    },
    {
     "output_type": "display_data",
     "data": {
      "text/plain": "test_batch:   0%|          | 0/38 [00:00<?, ?it/s]",
      "application/vnd.jupyter.widget-view+json": {
       "version_major": 2,
       "version_minor": 0,
       "model_id": "d93c7642c2ac4225b3b1b99edb818eb6"
      }
     },
     "metadata": {}
    },
    {
     "name": "stdout",
     "text": "ACT I.\n                                                                                             \n--- EPOCH 15/50 ---\n",
     "output_type": "stream"
    },
    {
     "output_type": "display_data",
     "data": {
      "text/plain": "train_batch:   0%|          | 0/348 [00:00<?, ?it/s]",
      "application/vnd.jupyter.widget-view+json": {
       "version_major": 2,
       "version_minor": 0,
       "model_id": "5a4f7c1ca902483fa95060cf099620df"
      }
     },
     "metadata": {}
    },
    {
     "output_type": "display_data",
     "data": {
      "text/plain": "test_batch:   0%|          | 0/38 [00:00<?, ?it/s]",
      "application/vnd.jupyter.widget-view+json": {
       "version_major": 2,
       "version_minor": 0,
       "model_id": "9395d040b20a4e4ea9e0efff4243002e"
      }
     },
     "metadata": {}
    },
    {
     "name": "stdout",
     "text": "ACT I. The corsen\n                                                                                  \n--- EPOCH 16/50 ---\n",
     "output_type": "stream"
    },
    {
     "output_type": "display_data",
     "data": {
      "text/plain": "train_batch:   0%|          | 0/348 [00:00<?, ?it/s]",
      "application/vnd.jupyter.widget-view+json": {
       "version_major": 2,
       "version_minor": 0,
       "model_id": "5a82e11f76b8457aa56eaf766e1592b7"
      }
     },
     "metadata": {}
    },
    {
     "output_type": "display_data",
     "data": {
      "text/plain": "test_batch:   0%|          | 0/38 [00:00<?, ?it/s]",
      "application/vnd.jupyter.widget-view+json": {
       "version_major": 2,
       "version_minor": 0,
       "model_id": "eda9e5185f104baaaa0d7e0afced4fde"
      }
     },
     "metadata": {}
    },
    {
     "name": "stdout",
     "text": "ACT I.\n                                                                                             \n--- EPOCH 17/50 ---\n",
     "output_type": "stream"
    },
    {
     "output_type": "display_data",
     "data": {
      "text/plain": "train_batch:   0%|          | 0/348 [00:00<?, ?it/s]",
      "application/vnd.jupyter.widget-view+json": {
       "version_major": 2,
       "version_minor": 0,
       "model_id": "c5b631009c014ad4836e0fef365e4405"
      }
     },
     "metadata": {}
    },
    {
     "output_type": "display_data",
     "data": {
      "text/plain": "test_batch:   0%|          | 0/38 [00:00<?, ?it/s]",
      "application/vnd.jupyter.widget-view+json": {
       "version_major": 2,
       "version_minor": 0,
       "model_id": "ffc467d580774cc78e4ecb04c749fee1"
      }
     },
     "metadata": {}
    },
    {
     "name": "stdout",
     "text": "ACT I. But the part the house of his dangers\n                                                       \n--- EPOCH 18/50 ---\n",
     "output_type": "stream"
    },
    {
     "output_type": "display_data",
     "data": {
      "text/plain": "train_batch:   0%|          | 0/348 [00:00<?, ?it/s]",
      "application/vnd.jupyter.widget-view+json": {
       "version_major": 2,
       "version_minor": 0,
       "model_id": "b921f7493b104ef5abab76fc1e98ca59"
      }
     },
     "metadata": {}
    },
    {
     "output_type": "display_data",
     "data": {
      "text/plain": "test_batch:   0%|          | 0/38 [00:00<?, ?it/s]",
      "application/vnd.jupyter.widget-view+json": {
       "version_major": 2,
       "version_minor": 0,
       "model_id": "45c616663a054db993d11ac2daa4a303"
      }
     },
     "metadata": {}
    },
    {
     "name": "stdout",
     "text": "ACT I.\n                                                                                             \n--- EPOCH 19/50 ---\n",
     "output_type": "stream"
    },
    {
     "output_type": "display_data",
     "data": {
      "text/plain": "train_batch:   0%|          | 0/348 [00:00<?, ?it/s]",
      "application/vnd.jupyter.widget-view+json": {
       "version_major": 2,
       "version_minor": 0,
       "model_id": "4f5df671d6ba48efb075abc98bd05ec5"
      }
     },
     "metadata": {}
    },
    {
     "output_type": "display_data",
     "data": {
      "text/plain": "test_batch:   0%|          | 0/38 [00:00<?, ?it/s]",
      "application/vnd.jupyter.widget-view+json": {
       "version_major": 2,
       "version_minor": 0,
       "model_id": "c1457fcfe0364cf48cac8274cac31f5d"
      }
     },
     "metadata": {}
    },
    {
     "name": "stdout",
     "text": "ACT I.\n                                                                                             \n--- EPOCH 20/50 ---\n",
     "output_type": "stream"
    },
    {
     "output_type": "display_data",
     "data": {
      "text/plain": "train_batch:   0%|          | 0/348 [00:00<?, ?it/s]",
      "application/vnd.jupyter.widget-view+json": {
       "version_major": 2,
       "version_minor": 0,
       "model_id": "e2112b072ede439ba4783bffb88c0a7c"
      }
     },
     "metadata": {}
    },
    {
     "output_type": "display_data",
     "data": {
      "text/plain": "test_batch:   0%|          | 0/38 [00:00<?, ?it/s]",
      "application/vnd.jupyter.widget-view+json": {
       "version_major": 2,
       "version_minor": 0,
       "model_id": "5da4efdaad81443db2bea4ce1bc7df4a"
      }
     },
     "metadata": {}
    },
    {
     "name": "stdout",
     "text": "ACT I.\n                                                                                             \n--- EPOCH 21/50 ---\n",
     "output_type": "stream"
    },
    {
     "output_type": "display_data",
     "data": {
      "text/plain": "train_batch:   0%|          | 0/348 [00:00<?, ?it/s]",
      "application/vnd.jupyter.widget-view+json": {
       "version_major": 2,
       "version_minor": 0,
       "model_id": "1292f8deabcd406798222e65991456c3"
      }
     },
     "metadata": {}
    },
    {
     "output_type": "display_data",
     "data": {
      "text/plain": "test_batch:   0%|          | 0/38 [00:00<?, ?it/s]",
      "application/vnd.jupyter.widget-view+json": {
       "version_major": 2,
       "version_minor": 0,
       "model_id": "d1f2377c4e3a412b9b7669ab91a28883"
      }
     },
     "metadata": {}
    },
    {
     "name": "stdout",
     "text": "ACT I. Why, there is the sentent\n                                                                   \n--- EPOCH 22/50 ---\n",
     "output_type": "stream"
    },
    {
     "output_type": "display_data",
     "data": {
      "text/plain": "train_batch:   0%|          | 0/348 [00:00<?, ?it/s]",
      "application/vnd.jupyter.widget-view+json": {
       "version_major": 2,
       "version_minor": 0,
       "model_id": "1ceeea098aae484eb35eae5e7d88961d"
      }
     },
     "metadata": {}
    },
    {
     "output_type": "display_data",
     "data": {
      "text/plain": "test_batch:   0%|          | 0/38 [00:00<?, ?it/s]",
      "application/vnd.jupyter.widget-view+json": {
       "version_major": 2,
       "version_minor": 0,
       "model_id": "f255ca4fef0546e98a6bbccdb5cc7395"
      }
     },
     "metadata": {}
    },
    {
     "name": "stdout",
     "text": "ACT I.\n                                                                                             \n--- EPOCH 23/50 ---\n",
     "output_type": "stream"
    },
    {
     "output_type": "display_data",
     "data": {
      "text/plain": "train_batch:   0%|          | 0/348 [00:00<?, ?it/s]",
      "application/vnd.jupyter.widget-view+json": {
       "version_major": 2,
       "version_minor": 0,
       "model_id": "236672c64f8d4e049eba322035726bae"
      }
     },
     "metadata": {}
    },
    {
     "output_type": "display_data",
     "data": {
      "text/plain": "test_batch:   0%|          | 0/38 [00:00<?, ?it/s]",
      "application/vnd.jupyter.widget-view+json": {
       "version_major": 2,
       "version_minor": 0,
       "model_id": "ba341809a8bc42af952c40e1292b1a96"
      }
     },
     "metadata": {}
    },
    {
     "name": "stdout",
     "text": "ACT I.\n                                                                                             \n--- EPOCH 24/50 ---\n",
     "output_type": "stream"
    },
    {
     "output_type": "display_data",
     "data": {
      "text/plain": "train_batch:   0%|          | 0/348 [00:00<?, ?it/s]",
      "application/vnd.jupyter.widget-view+json": {
       "version_major": 2,
       "version_minor": 0,
       "model_id": "ba317a40a8d844bb9f5791a1452d1e3e"
      }
     },
     "metadata": {}
    },
    {
     "output_type": "display_data",
     "data": {
      "text/plain": "test_batch:   0%|          | 0/38 [00:00<?, ?it/s]",
      "application/vnd.jupyter.widget-view+json": {
       "version_major": 2,
       "version_minor": 0,
       "model_id": "5bdd04794c404c85a253eeaadcbd9d21"
      }
     },
     "metadata": {}
    },
    {
     "name": "stdout",
     "text": "ACT I.\n                                                                                             \n--- EPOCH 25/50 ---\n",
     "output_type": "stream"
    },
    {
     "output_type": "display_data",
     "data": {
      "text/plain": "train_batch:   0%|          | 0/348 [00:00<?, ?it/s]",
      "application/vnd.jupyter.widget-view+json": {
       "version_major": 2,
       "version_minor": 0,
       "model_id": "418afa8017974b64a5dedfb2efce021b"
      }
     },
     "metadata": {}
    },
    {
     "output_type": "display_data",
     "data": {
      "text/plain": "test_batch:   0%|          | 0/38 [00:00<?, ?it/s]",
      "application/vnd.jupyter.widget-view+json": {
       "version_major": 2,
       "version_minor": 0,
       "model_id": "baf78374c767469db368efe3aa320228"
      }
     },
     "metadata": {}
    },
    {
     "name": "stdout",
     "text": "ACT I.\n                                                                                             \n--- EPOCH 26/50 ---\n",
     "output_type": "stream"
    },
    {
     "output_type": "display_data",
     "data": {
      "text/plain": "train_batch:   0%|          | 0/348 [00:00<?, ?it/s]",
      "application/vnd.jupyter.widget-view+json": {
       "version_major": 2,
       "version_minor": 0,
       "model_id": "0f4a0c6013b447ffad5493a4468ef76a"
      }
     },
     "metadata": {}
    },
    {
     "output_type": "display_data",
     "data": {
      "text/plain": "test_batch:   0%|          | 0/38 [00:00<?, ?it/s]",
      "application/vnd.jupyter.widget-view+json": {
       "version_major": 2,
       "version_minor": 0,
       "model_id": "cdadb8e4cc634e09835ebe8eb001408d"
      }
     },
     "metadata": {}
    },
    {
     "name": "stdout",
     "text": "ACT I.\n                                                                                             \n--- EPOCH 27/50 ---\n",
     "output_type": "stream"
    },
    {
     "output_type": "display_data",
     "data": {
      "text/plain": "train_batch:   0%|          | 0/348 [00:00<?, ?it/s]",
      "application/vnd.jupyter.widget-view+json": {
       "version_major": 2,
       "version_minor": 0,
       "model_id": "2609d42f9e5c47c98f40bfb0c8eeb6cb"
      }
     },
     "metadata": {}
    },
    {
     "output_type": "display_data",
     "data": {
      "text/plain": "test_batch:   0%|          | 0/38 [00:00<?, ?it/s]",
      "application/vnd.jupyter.widget-view+json": {
       "version_major": 2,
       "version_minor": 0,
       "model_id": "405e7ec4f5c445bdbba65d71e0502f23"
      }
     },
     "metadata": {}
    },
    {
     "name": "stdout",
     "text": "ACT I.\n                                                                                             \n--- EPOCH 28/50 ---\n",
     "output_type": "stream"
    },
    {
     "output_type": "display_data",
     "data": {
      "text/plain": "train_batch:   0%|          | 0/348 [00:00<?, ?it/s]",
      "application/vnd.jupyter.widget-view+json": {
       "version_major": 2,
       "version_minor": 0,
       "model_id": "85aa05354d994f36bf4df1522b02a02f"
      }
     },
     "metadata": {}
    },
    {
     "output_type": "display_data",
     "data": {
      "text/plain": "test_batch:   0%|          | 0/38 [00:00<?, ?it/s]",
      "application/vnd.jupyter.widget-view+json": {
       "version_major": 2,
       "version_minor": 0,
       "model_id": "0611d12d15ec494492eee25b4c95f6ee"
      }
     },
     "metadata": {}
    },
    {
     "name": "stdout",
     "text": "ACT I.\n                                                                                             \n--- EPOCH 29/50 ---\n",
     "output_type": "stream"
    },
    {
     "output_type": "display_data",
     "data": {
      "text/plain": "train_batch:   0%|          | 0/348 [00:00<?, ?it/s]",
      "application/vnd.jupyter.widget-view+json": {
       "version_major": 2,
       "version_minor": 0,
       "model_id": "ae583164e10b4435b16ce0f652d373aa"
      }
     },
     "metadata": {}
    },
    {
     "output_type": "display_data",
     "data": {
      "text/plain": "test_batch:   0%|          | 0/38 [00:00<?, ?it/s]",
      "application/vnd.jupyter.widget-view+json": {
       "version_major": 2,
       "version_minor": 0,
       "model_id": "bfcaeaa5ebaf46339b22936118004dc4"
      }
     },
     "metadata": {}
    },
    {
     "name": "stdout",
     "text": "ACT I.\n                                                                                             \n--- EPOCH 30/50 ---\n",
     "output_type": "stream"
    },
    {
     "output_type": "display_data",
     "data": {
      "text/plain": "train_batch:   0%|          | 0/348 [00:00<?, ?it/s]",
      "application/vnd.jupyter.widget-view+json": {
       "version_major": 2,
       "version_minor": 0,
       "model_id": "ac66f84c21334f4d94518617030393a3"
      }
     },
     "metadata": {}
    },
    {
     "output_type": "display_data",
     "data": {
      "text/plain": "test_batch:   0%|          | 0/38 [00:00<?, ?it/s]",
      "application/vnd.jupyter.widget-view+json": {
       "version_major": 2,
       "version_minor": 0,
       "model_id": "ac148e747aed46678ef5de64b201f76c"
      }
     },
     "metadata": {}
    },
    {
     "name": "stdout",
     "text": "ACT I.  \n                                                                                           \n--- EPOCH 31/50 ---\n",
     "output_type": "stream"
    },
    {
     "output_type": "display_data",
     "data": {
      "text/plain": "train_batch:   0%|          | 0/348 [00:00<?, ?it/s]",
      "application/vnd.jupyter.widget-view+json": {
       "version_major": 2,
       "version_minor": 0,
       "model_id": "4a0913f3ad91464f82dd0679918f14a5"
      }
     },
     "metadata": {}
    },
    {
     "output_type": "display_data",
     "data": {
      "text/plain": "test_batch:   0%|          | 0/38 [00:00<?, ?it/s]",
      "application/vnd.jupyter.widget-view+json": {
       "version_major": 2,
       "version_minor": 0,
       "model_id": "8ff5a3b07e3647a29c8d5ee86853eff7"
      }
     },
     "metadata": {}
    },
    {
     "name": "stdout",
     "text": "ACT I.\n                                                                                             \n--- EPOCH 32/50 ---\n",
     "output_type": "stream"
    },
    {
     "output_type": "display_data",
     "data": {
      "text/plain": "train_batch:   0%|          | 0/348 [00:00<?, ?it/s]",
      "application/vnd.jupyter.widget-view+json": {
       "version_major": 2,
       "version_minor": 0,
       "model_id": "ccbcb43b7da24917a6d9ce833c298cfd"
      }
     },
     "metadata": {}
    },
    {
     "output_type": "display_data",
     "data": {
      "text/plain": "test_batch:   0%|          | 0/38 [00:00<?, ?it/s]",
      "application/vnd.jupyter.widget-view+json": {
       "version_major": 2,
       "version_minor": 0,
       "model_id": "16431c48365a4016824d2eeff5e33c78"
      }
     },
     "metadata": {}
    },
    {
     "name": "stdout",
     "text": "ACT I.\n                                                                                             \n--- EPOCH 33/50 ---\n",
     "output_type": "stream"
    },
    {
     "output_type": "display_data",
     "data": {
      "text/plain": "train_batch:   0%|          | 0/348 [00:00<?, ?it/s]",
      "application/vnd.jupyter.widget-view+json": {
       "version_major": 2,
       "version_minor": 0,
       "model_id": "b0e644aee9ee4e1182fbcd08d8e33abb"
      }
     },
     "metadata": {}
    },
    {
     "output_type": "display_data",
     "data": {
      "text/plain": "test_batch:   0%|          | 0/38 [00:00<?, ?it/s]",
      "application/vnd.jupyter.widget-view+json": {
       "version_major": 2,
       "version_minor": 0,
       "model_id": "412d815d506641d4b4f67194b88e4f7e"
      }
     },
     "metadata": {}
    },
    {
     "name": "stdout",
     "text": "ACT I.\n                                                                                             \n--- EPOCH 34/50 ---\n",
     "output_type": "stream"
    },
    {
     "output_type": "display_data",
     "data": {
      "text/plain": "train_batch:   0%|          | 0/348 [00:00<?, ?it/s]",
      "application/vnd.jupyter.widget-view+json": {
       "version_major": 2,
       "version_minor": 0,
       "model_id": "bd99119634a24d68abdaf57a23212475"
      }
     },
     "metadata": {}
    },
    {
     "output_type": "display_data",
     "data": {
      "text/plain": "test_batch:   0%|          | 0/38 [00:00<?, ?it/s]",
      "application/vnd.jupyter.widget-view+json": {
       "version_major": 2,
       "version_minor": 0,
       "model_id": "5905124e1e6a4f03ad912f875518f64a"
      }
     },
     "metadata": {}
    },
    {
     "name": "stdout",
     "text": "ACT I.\n                                                                                             \n--- EPOCH 35/50 ---\n",
     "output_type": "stream"
    },
    {
     "output_type": "display_data",
     "data": {
      "text/plain": "train_batch:   0%|          | 0/348 [00:00<?, ?it/s]",
      "application/vnd.jupyter.widget-view+json": {
       "version_major": 2,
       "version_minor": 0,
       "model_id": "056d8a35cbb3464294be151e12c0fbb7"
      }
     },
     "metadata": {}
    },
    {
     "output_type": "display_data",
     "data": {
      "text/plain": "test_batch:   0%|          | 0/38 [00:00<?, ?it/s]",
      "application/vnd.jupyter.widget-view+json": {
       "version_major": 2,
       "version_minor": 0,
       "model_id": "fb738eff5c9f4faebb4558cce03b8d29"
      }
     },
     "metadata": {}
    },
    {
     "name": "stdout",
     "text": "ACT I.\n                                                                                             \n--- EPOCH 36/50 ---\n",
     "output_type": "stream"
    },
    {
     "output_type": "display_data",
     "data": {
      "text/plain": "train_batch:   0%|          | 0/348 [00:00<?, ?it/s]",
      "application/vnd.jupyter.widget-view+json": {
       "version_major": 2,
       "version_minor": 0,
       "model_id": "54749aea34c14a95878ed5cb4acc6dd6"
      }
     },
     "metadata": {}
    },
    {
     "output_type": "display_data",
     "data": {
      "text/plain": "test_batch:   0%|          | 0/38 [00:00<?, ?it/s]",
      "application/vnd.jupyter.widget-view+json": {
       "version_major": 2,
       "version_minor": 0,
       "model_id": "b67b9235a8f74c2694eb85c6c234a136"
      }
     },
     "metadata": {}
    },
    {
     "name": "stdout",
     "text": "ACT I.\n                                                                                             \n--- EPOCH 37/50 ---\n",
     "output_type": "stream"
    },
    {
     "output_type": "display_data",
     "data": {
      "text/plain": "train_batch:   0%|          | 0/348 [00:00<?, ?it/s]",
      "application/vnd.jupyter.widget-view+json": {
       "version_major": 2,
       "version_minor": 0,
       "model_id": "293fa904c2f248acaa523c11f5c81f05"
      }
     },
     "metadata": {}
    },
    {
     "output_type": "display_data",
     "data": {
      "text/plain": "test_batch:   0%|          | 0/38 [00:00<?, ?it/s]",
      "application/vnd.jupyter.widget-view+json": {
       "version_major": 2,
       "version_minor": 0,
       "model_id": "5b8045f5ce4f4be281514599929b5c22"
      }
     },
     "metadata": {}
    },
    {
     "name": "stdout",
     "text": "ACT I.\n                                                                                             \n--- EPOCH 38/50 ---\n",
     "output_type": "stream"
    },
    {
     "output_type": "display_data",
     "data": {
      "text/plain": "train_batch:   0%|          | 0/348 [00:00<?, ?it/s]",
      "application/vnd.jupyter.widget-view+json": {
       "version_major": 2,
       "version_minor": 0,
       "model_id": "e997edc6f6904be3aa48d04b5be4336b"
      }
     },
     "metadata": {}
    },
    {
     "output_type": "display_data",
     "data": {
      "text/plain": "test_batch:   0%|          | 0/38 [00:00<?, ?it/s]",
      "application/vnd.jupyter.widget-view+json": {
       "version_major": 2,
       "version_minor": 0,
       "model_id": "90a493f4cf704084b183b34a80cab3bb"
      }
     },
     "metadata": {}
    },
    {
     "name": "stdout",
     "text": "ACT I.\n                                                                                             \n--- EPOCH 39/50 ---\n",
     "output_type": "stream"
    },
    {
     "output_type": "display_data",
     "data": {
      "text/plain": "train_batch:   0%|          | 0/348 [00:00<?, ?it/s]",
      "application/vnd.jupyter.widget-view+json": {
       "version_major": 2,
       "version_minor": 0,
       "model_id": "1c75c051d7684e72ae29e9b326aca9ee"
      }
     },
     "metadata": {}
    },
    {
     "output_type": "display_data",
     "data": {
      "text/plain": "test_batch:   0%|          | 0/38 [00:00<?, ?it/s]",
      "application/vnd.jupyter.widget-view+json": {
       "version_major": 2,
       "version_minor": 0,
       "model_id": "2f5160e020b74ec0b0da28c0fdbe3001"
      }
     },
     "metadata": {}
    },
    {
     "name": "stdout",
     "text": "ACT I.\n                                                                               Exeunt\n\nSCENE \n--- EPOCH 40/50 ---\n",
     "output_type": "stream"
    },
    {
     "output_type": "display_data",
     "data": {
      "text/plain": "train_batch:   0%|          | 0/348 [00:00<?, ?it/s]",
      "application/vnd.jupyter.widget-view+json": {
       "version_major": 2,
       "version_minor": 0,
       "model_id": "571b9d821bb145a2bef8b2d7082808be"
      }
     },
     "metadata": {}
    },
    {
     "output_type": "display_data",
     "data": {
      "text/plain": "test_batch:   0%|          | 0/38 [00:00<?, ?it/s]",
      "application/vnd.jupyter.widget-view+json": {
       "version_major": 2,
       "version_minor": 0,
       "model_id": "1a4037ed3274442f96945af2a9e563bb"
      }
     },
     "metadata": {}
    },
    {
     "name": "stdout",
     "text": "ACT I.\n  PAROLLES. I have heard this house of her contents of the last\n    The body blood. And the t\n--- EPOCH 41/50 ---\n",
     "output_type": "stream"
    },
    {
     "output_type": "display_data",
     "data": {
      "text/plain": "train_batch:   0%|          | 0/348 [00:00<?, ?it/s]",
      "application/vnd.jupyter.widget-view+json": {
       "version_major": 2,
       "version_minor": 0,
       "model_id": "9e87833e260a40cfae9d4c35c8bddac9"
      }
     },
     "metadata": {}
    },
    {
     "output_type": "display_data",
     "data": {
      "text/plain": "test_batch:   0%|          | 0/38 [00:00<?, ?it/s]",
      "application/vnd.jupyter.widget-view+json": {
       "version_major": 2,
       "version_minor": 0,
       "model_id": "48e9b728cbdb4c8ba0a2ab300c614935"
      }
     },
     "metadata": {}
    },
    {
     "name": "stdout",
     "text": "ACT I.\n                                                                  Exeunt and MENENIUS\n    And\n--- EPOCH 42/50 ---\n",
     "output_type": "stream"
    },
    {
     "output_type": "display_data",
     "data": {
      "text/plain": "train_batch:   0%|          | 0/348 [00:00<?, ?it/s]",
      "application/vnd.jupyter.widget-view+json": {
       "version_major": 2,
       "version_minor": 0,
       "model_id": "71a11d8b6766481798cd553562cf5d19"
      }
     },
     "metadata": {}
    },
    {
     "output_type": "display_data",
     "data": {
      "text/plain": "test_batch:   0%|          | 0/38 [00:00<?, ?it/s]",
      "application/vnd.jupyter.widget-view+json": {
       "version_major": 2,
       "version_minor": 0,
       "model_id": "f32e86512635491396d322bc55fa866e"
      }
     },
     "metadata": {}
    },
    {
     "name": "stdout",
     "text": "ACT I.\n                                                                                  Exeunt\n\nSCE\n--- EPOCH 43/50 ---\n",
     "output_type": "stream"
    },
    {
     "output_type": "display_data",
     "data": {
      "text/plain": "train_batch:   0%|          | 0/348 [00:00<?, ?it/s]",
      "application/vnd.jupyter.widget-view+json": {
       "version_major": 2,
       "version_minor": 0,
       "model_id": "f655b3f325f34062af750865ebbdaecf"
      }
     },
     "metadata": {}
    },
    {
     "output_type": "display_data",
     "data": {
      "text/plain": "test_batch:   0%|          | 0/38 [00:00<?, ?it/s]",
      "application/vnd.jupyter.widget-view+json": {
       "version_major": 2,
       "version_minor": 0,
       "model_id": "a23230609f4a47b6b0cf8a1fb1e9e5b9"
      }
     },
     "metadata": {}
    },
    {
     "name": "stdout",
     "text": "ACT I.\n\n                                        Enter GLOUCESTER\n\n  PROTEUS. Not so say the dove and\n--- EPOCH 44/50 ---\n",
     "output_type": "stream"
    },
    {
     "output_type": "display_data",
     "data": {
      "text/plain": "train_batch:   0%|          | 0/348 [00:00<?, ?it/s]",
      "application/vnd.jupyter.widget-view+json": {
       "version_major": 2,
       "version_minor": 0,
       "model_id": "9b34ee20300040c5a4f05544639250fe"
      }
     },
     "metadata": {}
    },
    {
     "output_type": "display_data",
     "data": {
      "text/plain": "test_batch:   0%|          | 0/38 [00:00<?, ?it/s]",
      "application/vnd.jupyter.widget-view+json": {
       "version_major": 2,
       "version_minor": 0,
       "model_id": "abd9b7609b7e4d948a29fe4586a08e4f"
      }
     },
     "metadata": {}
    },
    {
     "name": "stdout",
     "text": "ACT I.\n                                                                                             \n--- EPOCH 45/50 ---\n",
     "output_type": "stream"
    },
    {
     "output_type": "display_data",
     "data": {
      "text/plain": "train_batch:   0%|          | 0/348 [00:00<?, ?it/s]",
      "application/vnd.jupyter.widget-view+json": {
       "version_major": 2,
       "version_minor": 0,
       "model_id": "818340ae9d7f471682b0c2067d14ad92"
      }
     },
     "metadata": {}
    },
    {
     "output_type": "display_data",
     "data": {
      "text/plain": "test_batch:   0%|          | 0/38 [00:00<?, ?it/s]",
      "application/vnd.jupyter.widget-view+json": {
       "version_major": 2,
       "version_minor": 0,
       "model_id": "968c6c0852d94f70b57e43731ad72355"
      }
     },
     "metadata": {}
    },
    {
     "name": "stdout",
     "text": "ACT I.\n                                                                                             \n--- EPOCH 46/50 ---\n",
     "output_type": "stream"
    },
    {
     "output_type": "display_data",
     "data": {
      "text/plain": "train_batch:   0%|          | 0/348 [00:00<?, ?it/s]",
      "application/vnd.jupyter.widget-view+json": {
       "version_major": 2,
       "version_minor": 0,
       "model_id": "6bbcea2aebc249899b6c043379278694"
      }
     },
     "metadata": {}
    },
    {
     "output_type": "display_data",
     "data": {
      "text/plain": "test_batch:   0%|          | 0/38 [00:00<?, ?it/s]",
      "application/vnd.jupyter.widget-view+json": {
       "version_major": 2,
       "version_minor": 0,
       "model_id": "8617b5a1f96d41919e7144c2eeacb0c6"
      }
     },
     "metadata": {}
    },
    {
     "name": "stdout",
     "text": "ACT I.\n  LEONTES. And this soul should will not she will can cere\n    The large make him not a more \n--- EPOCH 47/50 ---\n",
     "output_type": "stream"
    },
    {
     "output_type": "display_data",
     "data": {
      "text/plain": "train_batch:   0%|          | 0/348 [00:00<?, ?it/s]",
      "application/vnd.jupyter.widget-view+json": {
       "version_major": 2,
       "version_minor": 0,
       "model_id": "55d029c64cec404c9bae96962dc59b64"
      }
     },
     "metadata": {}
    },
    {
     "output_type": "display_data",
     "data": {
      "text/plain": "test_batch:   0%|          | 0/38 [00:00<?, ?it/s]",
      "application/vnd.jupyter.widget-view+json": {
       "version_major": 2,
       "version_minor": 0,
       "model_id": "d5955e66f5d64e7698c8f10590e395e9"
      }
     },
     "metadata": {}
    },
    {
     "name": "stdout",
     "text": "ACT I.\n                                                                              Exeunt\n\nSCENE I\n--- EPOCH 48/50 ---\n",
     "output_type": "stream"
    },
    {
     "output_type": "display_data",
     "data": {
      "text/plain": "train_batch:   0%|          | 0/348 [00:00<?, ?it/s]",
      "application/vnd.jupyter.widget-view+json": {
       "version_major": 2,
       "version_minor": 0,
       "model_id": "77f25778735748e5a32032521b9c614b"
      }
     },
     "metadata": {}
    },
    {
     "output_type": "display_data",
     "data": {
      "text/plain": "test_batch:   0%|          | 0/38 [00:00<?, ?it/s]",
      "application/vnd.jupyter.widget-view+json": {
       "version_major": 2,
       "version_minor": 0,
       "model_id": "ac6d55edc0fb45d2ad7eb1f33bac921c"
      }
     },
     "metadata": {}
    },
    {
     "name": "stdout",
     "text": "ACT I.\n\n                      Enter PAROLLES\n\n  CARILANL. I am the moing with the gods, I have not s\n--- EPOCH 49/50 ---\n",
     "output_type": "stream"
    },
    {
     "output_type": "display_data",
     "data": {
      "text/plain": "train_batch:   0%|          | 0/348 [00:00<?, ?it/s]",
      "application/vnd.jupyter.widget-view+json": {
       "version_major": 2,
       "version_minor": 0,
       "model_id": "38a405f1c981445ca61a76d784792bef"
      }
     },
     "metadata": {}
    },
    {
     "output_type": "display_data",
     "data": {
      "text/plain": "test_batch:   0%|          | 0/38 [00:00<?, ?it/s]",
      "application/vnd.jupyter.widget-view+json": {
       "version_major": 2,
       "version_minor": 0,
       "model_id": "9d214d47c72a42a89692b04c37d1d9d1"
      }
     },
     "metadata": {}
    },
    {
     "name": "stdout",
     "text": "\n*** Saved checkpoint rnn.pt\n",
     "output_type": "stream"
    },
    {
     "output_type": "display_data",
     "data": {
      "text/plain": "<Figure size 1152x720 with 4 Axes>",
      "image/png": "[encoded data removed]"
     },
     "metadata": {
      "needs_background": "light"
     }
    }
   ]
  },
  {
   "cell_type": "markdown",
   "source": [
    "### Generating a work of art\n",
    "<a id=part1_8></a>"
   ],
   "metadata": {
    "pycharm": {
     "name": "#%% md\n"
    }
   }
  },
  {
   "cell_type": "markdown",
   "source": [
    "Armed with our fully trained model, let's generate the next Hamlet! You should experiment with modifying the sampling temperature and see what happens.\n",
    "\n",
    "The text you generate should “look” like a Shakespeare play:\n",
    "old-style English words and sentence structure, directions for the actors\n",
    "(like “Exit/Enter”), sections (Act I/Scene III) etc.\n",
    "There will be no coherent plot of course, but it should at least seem like\n",
    "a Shakespearean play when not looking too closely.\n",
    "If this is not what you see, go back, debug and/or and re-train.\n",
    "\n",
    "**TODO**: Specify the generation parameters in the `part1_generation_params()` function within the `hw3/answers.py` module."
   ],
   "metadata": {
    "pycharm": {
     "name": "#%% md\n"
    }
   }
  },
  {
   "cell_type": "code",
   "source": [
    "from hw3.answers import part1_generation_params\n",
    "\n",
    "start_seq, temperature = part1_generation_params()\n",
    "\n",
    "generated_sequence = charnn.generate_from_model(\n",
    "    model, start_seq, 10000, (char_to_idx,idx_to_char), T=temperature\n",
    ")\n",
    "\n",
    "print(generated_sequence)"
   ],
   "metadata": {
    "pycharm": {
     "name": "#%%\n"
    },
    "execution": {
     "iopub.status.busy": "2022-07-01T13:13:16.543207Z",
     "iopub.execute_input": "2022-07-01T13:13:16.543577Z",
     "iopub.status.idle": "2022-07-01T13:13:31.417682Z",
     "shell.execute_reply.started": "2022-07-01T13:13:16.543547Z",
     "shell.execute_reply": "2022-07-01T13:13:31.416536Z"
    },
    "trusted": true
   },
   "execution_count": 45,
   "outputs": [
    {
     "name": "stdout",
     "text": "ACT I.\n                                                                                                                                                              Exeunt\n\nSCENE II.\nSandter, he will did perceive a man to his bring and the Pare.\n\n  SICINIUS. My lord, then comes the part of the says\n    My hand of what I will see the care of your well,\n    Where I will be satisford.\n  DESDEMONA. So should the proud dead many grace.\n    Now have a man and honour I will think that the king\n    That he charge it, there is my profise soul\n    That should repute the court of lady to her,\n    And come the blood and the rugher and friends\n    I beseech your heart, prove a tough to death,\n    And that the feed of her ample of the compose him,\n    And he can see the honour with me to shall\n    That he speak but here speak to the commons.\n    We have say is become to her with him.\n    We have good my word of my love of his power,\n    With a pertant of the son come to the fortune\n    That that that I will so not see ended not and stands\n    To the ground of her performation.\n    The poor arms that shall the garland to the came\n    The pity as the devil of himself of the world\n    That would have heard the soul and our and life.\n    Now I know the rest and put of his spirit.\n    The man, here of our heart of her words,\n    And the field of the place of the construction.\n    How have have his content the tord of thee\n    That for such a single to the present.\n    And they was one his service of her coming.\n    And the way is not to the say of say in thy\n    that she love him the ways that I will to be\n    To be for him exegut of the blood.\n    The house of heaven of the now that he will be a strength of my\n    better borrows of the fear to the part of the more;\n    And how do not be more to be her, and there is a\n    house, and the man is a fortune with the men say\n    That we are he for the fair and this heart\n    That ever are as the seas of my prove.\n    Shall be a father well and eyes and second,\n    Reads the prove of the ready sent in some\n    To for my tomes and the world in the world,\n    And were he with the things and a death and she hath\n    The service of her dares of the as the world\n    That a pain of the moon of the fools, and hear\n    The banished of his ampary be a service\n    To be done, to be out to heaven for a selvet.\n    O well be a double part of my love.\n    A breath before with my father, we shall see\n    My world of your sentence of the true,\n    And the concest of heart of this love,\n    And thou shalt no swain and that was the hand.\n    No more of the best of the fear with a bare.\n    Come, and that the present to my peace,\n    And had you great power in the purpose,\n    Dear love and heart in his hand of her\n    Seath the part of the well of the father and\n    With a come of my life. This for the hand death!\n    Why not this brother the best of the pray.\n    Come to the ways of just friends and hands!\n    If he will go his good and that all that prayers\n    Shall be receive the sake of fair dears\n    But have the saver of him and her and one fair\n    That be a strong face is a charge of the great.\n    Lord of his power is not a common.\n    He will be it should be married, and the blood,\n    And there will have a choose of the can sound doth be love\n    That in every love to did with the world,\n    And then make the compless of my words,\n    That makes a love of thy common to gentle,\n    And dead thy spirit of his best all more;\n    I must we cannot sun the house of Tower,\n    And say shill the sense of not the singress.\n    The garlance, and the begneror to me to the fear.\n    You be here is the new and all the days\n    That the state of the such the life, and stay\n    That had a fall of the bright in my father.\n    What see your gallant enemy, being soul.\n    And I will see the bewill go make him.\n    But I can do the man with the proportion.\n    Destands the brother of the lips of the body\n    And stays the serve in my father shall know him\n    That shall be the stramant and all the corse of the prayers\n    Which the confessed honour in his mother\n    That I was a cursed down wonder we are but a\n    great soul of mine ends and great any soul,\n    And can we speak to his devil of your lady\n    When there is the prince of his fine dear;\n    And with his father will we mean the prince.\n    I will give thee that you will be brought it,\n    And she will stand so such caption should\n    That we devil the sense of your ancestand\n    With the death of love of the sons of the fair\n    To the dear and that the commands for the monster.\n                                                                                                                                                                  Exeunt\n\nSCENE II.\nShall Pelland marrile\n  WERT BOTH SORDIUS shall in the the Falstaff and better France of Lady and hath with him his Dole nate\n                                                                                                                                                         Exeunt\n\nSCENE IV.\nSon the house to his courtesy,\nLavinius, the forest of CISTO and SIR TOYER\n\n  PANDARUS. Shall be so.\n  SECOND MORDER. Why, and there is a banished well and her,\n    In the sure of the more and company of servant to her\n    to be so am a word.\n  TIMON. Ay, stays the more best bown master bid a sorrow\n    To do you in the troth.\n    What is the country of a common boins  \n    With haste and such of the best of the sense.\n    He hath can as he hath in the sallity;\n    And there have me the sweet and foratons,\n    The man and the brother so and earth your praise.\n    And you shall am a father that love a worthy\n    Of the bears good to her life to this world.\n    He will perchance the truth, on him to my brother.\n    What say not he, that let his heart of the sight.\n    That have been ammis his hands that when\n    Before her access to the great means.\n    I do the condent of with since and love\n    That I shall not be so full of heaven.\n                                                                                                                                    Exeunt\n\nSCENE II.\nThe Daunt and the Corderes.\n\n                                        Enter PRANDEND\n\n                                                                                                                                    Exeunt\n\nSCENE III.\nA and that  \n            \"     \"                                                                                                                           Exeunt\n\nSCENE II.\nThe Queen the King and be here to the state of Regent and Corstinion.\n\n                                         Enter SOLDIER\n\n                                            Exit SIR TOLBOA\n\n                                                                                             Exit\n                                                                                                                                              Exeunt\n\nSCENE II.\nThe land of Surniares to the palace, and Cousor of hearts, which hath have to the sweet and the Castle slaves\n\n  LORD. Why, intend is done, have me for my brother.\n    The from the good man that we have father deash,\n    The purpose of his such a commanded\n    That we are a sword of her ban, and so with\n    That part and shames have stand of the sable.\n    The trumpet as the man of of the death,\n    That the than here of the grace and be in at the as the\n    shame and heart to be store to be so for the hours.\n    I have make her be that seems the hand that he was in\n    that a man of the story of his world, and the perfect\n    With readies that she will be a most bear the mine.\n                                                                                                                                            Exeunt\n\nSCENE II.\nSouls the brave the RICHION and the DUKE OF YORK, and PLONDELAND and CARTINTA\n\n  CASSIO. I will have you make the deliverance and see.\n    What makes me constant the dear brother,\n    That he was well and stoul of the say thou didst\n    More person his conceation of the sake.\n    The face of heaven with a shame in the sees.\n    I were in his forsule the feice is false.\n    No more and thanks, and the weak of the common good\n    To hear with a gafeen and a sin and parted.\n  DUKE. The fear be the news of the same base detient\n    That we have so prove the sweet spotest than the\n    King is not of down as the way of my souls\n    The as sweet a stripes of the barks balt on the body and a hand;\n    you say I am the soul of her that and finger to gentle honest in the fall\n    a same in content, and you have a wife in the love of her father and the\n    action in death, and which they have the hard of life to you, a body in the world, and baling the will of the life\n    shall not the soul is the good day. I would not be discast and known.\n  Lear. I am not in the sin he doth be present the world.\n    You are here, my lord, and his soul of the beast\n    To be the rest of the banishes are battle,\n    And the defore been at the our known;\n    And in the comes of his heart of my father,\n    That are her world be before your can of love,\n    But the prove received the country father,\n    And with a report and down his words\n    With from him, and the heart of the good country.\n    A such called her made of a bosom from him\n    Which a dear budge with the world shall be love.\n                                                                                                                                        Exit\n                                                                                                       Exeunt\n\nSCENE II.\nThe Ground the PRENCON, and GROEP,  \n\n                                                                                  Enter SECOND\n                                                                Exeunt attendants\n\n                               \n",
     "output_type": "stream"
    }
   ]
  },
  {
   "cell_type": "markdown",
   "source": "## Questions\n<a id=part1_9></a>",
   "metadata": {
    "pycharm": {
     "name": "#%% md\n"
    }
   }
  },
  {
   "cell_type": "markdown",
   "source": "**TODO** Answer the following questions. Write your answers in the appropriate variables in the module `hw3/answers.py`.",
   "metadata": {
    "pycharm": {
     "name": "#%% md\n"
    }
   }
  },
  {
   "cell_type": "code",
   "source": "from cs236781.answers import display_answer\nimport hw3.answers",
   "metadata": {
    "pycharm": {
     "name": "#%%\n"
    },
    "execution": {
     "iopub.status.busy": "2022-07-01T13:14:35.890274Z",
     "iopub.execute_input": "2022-07-01T13:14:35.891272Z",
     "iopub.status.idle": "2022-07-01T13:14:35.926792Z",
     "shell.execute_reply.started": "2022-07-01T13:14:35.891219Z",
     "shell.execute_reply": "2022-07-01T13:14:35.925673Z"
    },
    "trusted": true
   },
   "execution_count": 1,
   "outputs": []
  },
  {
   "cell_type": "markdown",
   "source": "### Question 1\nWhy do we split the corpus into sequences instead of training on the whole text?",
   "metadata": {
    "pycharm": {
     "name": "#%% md\n"
    }
   }
  },
  {
   "cell_type": "code",
   "source": "display_answer(hw3.answers.part1_q1)",
   "metadata": {
    "pycharm": {
     "name": "#%%\n"
    },
    "execution": {
     "iopub.status.busy": "2022-07-01T13:14:38.334791Z",
     "iopub.execute_input": "2022-07-01T13:14:38.335426Z",
     "iopub.status.idle": "2022-07-01T13:14:38.373995Z",
     "shell.execute_reply.started": "2022-07-01T13:14:38.335388Z",
     "shell.execute_reply": "2022-07-01T13:14:38.373067Z"
    },
    "trusted": true
   },
   "execution_count": 2,
   "outputs": [
    {
     "data": {
      "text/plain": "<IPython.core.display.Markdown object>",
      "text/markdown": "\nThe two reasons of the splittng are:\n\n1.  Making batch that are indepedent will make our model more creative during training in order to reduce overfitting. \n    Indeed training the model by giving to the model only one batch containing the whole corpus will make it remember it \n    instead of creating the ability to generate new and consistent text\n2.  For memory reasons, indeed on character in encoded by a 83d vector, the corpus contains millions of caracters, so \n    passing the whole encoded as an huge matrix wouldn't fit in the memory\n\n"
     },
     "metadata": {},
     "output_type": "display_data"
    }
   ]
  },
  {
   "cell_type": "markdown",
   "source": "### Question 2\nHow is it possible that the generated text clearly shows memory longer than the sequence length?",
   "metadata": {
    "pycharm": {
     "name": "#%% md\n"
    }
   }
  },
  {
   "cell_type": "code",
   "source": "display_answer(hw3.answers.part1_q2)",
   "metadata": {
    "pycharm": {
     "name": "#%%\n"
    },
    "execution": {
     "iopub.status.busy": "2022-07-01T13:14:43.156912Z",
     "iopub.execute_input": "2022-07-01T13:14:43.157317Z",
     "iopub.status.idle": "2022-07-01T13:14:43.195875Z",
     "shell.execute_reply.started": "2022-07-01T13:14:43.157281Z",
     "shell.execute_reply": "2022-07-01T13:14:43.194707Z"
    },
    "trusted": true
   },
   "execution_count": 3,
   "outputs": [
    {
     "data": {
      "text/plain": "<IPython.core.display.Markdown object>",
      "text/markdown": "\nIn fact, the generated text has a longer memory than the original sequence length. This due to the fact that the model's\noutput is composed by the generated text, which has the same lenght as the input, and by the hidden state which acts as\nour memory\n\n"
     },
     "metadata": {},
     "output_type": "display_data"
    }
   ]
  },
  {
   "cell_type": "markdown",
   "source": "### Question 3\nWhy are we not shuffling the order of batches when training?",
   "metadata": {
    "pycharm": {
     "name": "#%% md\n"
    }
   }
  },
  {
   "cell_type": "code",
   "source": "display_answer(hw3.answers.part1_q3)",
   "metadata": {
    "pycharm": {
     "name": "#%%\n"
    },
    "execution": {
     "iopub.status.busy": "2022-07-01T13:15:19.707783Z",
     "iopub.execute_input": "2022-07-01T13:15:19.708431Z",
     "iopub.status.idle": "2022-07-01T13:15:19.746875Z",
     "shell.execute_reply.started": "2022-07-01T13:15:19.708390Z",
     "shell.execute_reply": "2022-07-01T13:15:19.745921Z"
    },
    "trusted": true
   },
   "execution_count": 4,
   "outputs": [
    {
     "data": {
      "text/plain": "<IPython.core.display.Markdown object>",
      "text/markdown": "\nWe are not shuffling the order of batches when training, because in text generation the order of charcters has an \nimportance, consequently we want the model to learn the patterns of a text and in order to do so, it has to know the \nprevious chars. While in image classification, for instance, a cat will always be cat even if the previous \nclassification was a dog.\n\n"
     },
     "metadata": {},
     "output_type": "display_data"
    }
   ]
  },
  {
   "cell_type": "markdown",
   "source": "### Question 4\n1. Why do we lower the temperature for sampling (compared to the default of $1.0$)?\n2. What happens when the temperature is very high and why?\n3. What happens when the temperature is very low and why?",
   "metadata": {
    "pycharm": {
     "name": "#%% md\n"
    }
   }
  },
  {
   "cell_type": "code",
   "source": "display_answer(hw3.answers.part1_q4)\n",
   "metadata": {
    "pycharm": {
     "name": "#%%\n"
    },
    "tags": [],
    "execution": {
     "iopub.status.busy": "2022-07-01T13:15:30.105990Z",
     "iopub.execute_input": "2022-07-01T13:15:30.106471Z",
     "iopub.status.idle": "2022-07-01T13:15:30.150301Z",
     "shell.execute_reply.started": "2022-07-01T13:15:30.106397Z",
     "shell.execute_reply": "2022-07-01T13:15:30.149150Z"
    },
    "trusted": true
   },
   "execution_count": 5,
   "outputs": [
    {
     "data": {
      "text/plain": "<IPython.core.display.Markdown object>",
      "text/markdown": "\n1.  The temperature controls the variance of the distribution for the next char in according to the current one and the\n    current state of the model.\n\n2.  Higher temperature lead to a bigger variance for the next char distribution, in other words more noise and then \n    increase the chance of choosing a random character for the next char. Consequently with a high temperature we will \n    observe more spelling mistakes. We can use an high temperature in order to increase the creativity of the model\n\n3.  Higher temperature lead to a lower variance for the next char distribution, consequently that will decrease the \n    chance of choosing a random character for the next char. Consequently with a low temperature we will observe less \n    spelling mistakes and our model will generate character based more on what it learned than on randomness\n\n\n\n"
     },
     "metadata": {},
     "output_type": "display_data"
    }
   ]
  },
  {
   "cell_type": "code",
   "source": "",
   "metadata": {},
   "execution_count": null,
   "outputs": []
  }
 ]
}